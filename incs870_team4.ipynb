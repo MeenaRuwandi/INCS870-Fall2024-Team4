{
  "nbformat": 4,
  "nbformat_minor": 0,
  "metadata": {
    "colab": {
      "provenance": [],
      "gpuType": "T4",
      "machine_shape": "hm",
      "include_colab_link": true
    },
    "kernelspec": {
      "name": "python3",
      "display_name": "Python 3"
    },
    "language_info": {
      "name": "python"
    },
    "accelerator": "GPU"
  },
  "cells": [
    {
      "cell_type": "markdown",
      "metadata": {
        "id": "view-in-github",
        "colab_type": "text"
      },
      "source": [
        "<a href=\"https://colab.research.google.com/github/MeenaRuwandi/INCS_870_Project_IDSforMinorAttacks/blob/meena/incs870_team4.ipynb\" target=\"_parent\"><img src=\"https://colab.research.google.com/assets/colab-badge.svg\" alt=\"Open In Colab\"/></a>"
      ]
    },
    {
      "cell_type": "code",
      "source": [
        "!pip install imbalanced-learn\n",
        "!pip install scikit-learn\n",
        "!pip install seaborn"
      ],
      "metadata": {
        "colab": {
          "base_uri": "https://localhost:8080/"
        },
        "id": "kAonk6lUz5UI",
        "outputId": "fb02a7a9-3bc3-469d-8484-4f06c8b500a3"
      },
      "execution_count": 39,
      "outputs": [
        {
          "output_type": "stream",
          "name": "stdout",
          "text": [
            "Requirement already satisfied: imbalanced-learn in /usr/local/lib/python3.10/dist-packages (0.12.3)\n",
            "Requirement already satisfied: numpy>=1.17.3 in /usr/local/lib/python3.10/dist-packages (from imbalanced-learn) (1.26.4)\n",
            "Requirement already satisfied: scipy>=1.5.0 in /usr/local/lib/python3.10/dist-packages (from imbalanced-learn) (1.13.1)\n",
            "Requirement already satisfied: scikit-learn>=1.0.2 in /usr/local/lib/python3.10/dist-packages (from imbalanced-learn) (1.5.2)\n",
            "Requirement already satisfied: joblib>=1.1.1 in /usr/local/lib/python3.10/dist-packages (from imbalanced-learn) (1.4.2)\n",
            "Requirement already satisfied: threadpoolctl>=2.0.0 in /usr/local/lib/python3.10/dist-packages (from imbalanced-learn) (3.5.0)\n",
            "Requirement already satisfied: scikit-learn in /usr/local/lib/python3.10/dist-packages (1.5.2)\n",
            "Requirement already satisfied: numpy>=1.19.5 in /usr/local/lib/python3.10/dist-packages (from scikit-learn) (1.26.4)\n",
            "Requirement already satisfied: scipy>=1.6.0 in /usr/local/lib/python3.10/dist-packages (from scikit-learn) (1.13.1)\n",
            "Requirement already satisfied: joblib>=1.2.0 in /usr/local/lib/python3.10/dist-packages (from scikit-learn) (1.4.2)\n",
            "Requirement already satisfied: threadpoolctl>=3.1.0 in /usr/local/lib/python3.10/dist-packages (from scikit-learn) (3.5.0)\n",
            "Requirement already satisfied: seaborn in /usr/local/lib/python3.10/dist-packages (0.13.1)\n",
            "Requirement already satisfied: numpy!=1.24.0,>=1.20 in /usr/local/lib/python3.10/dist-packages (from seaborn) (1.26.4)\n",
            "Requirement already satisfied: pandas>=1.2 in /usr/local/lib/python3.10/dist-packages (from seaborn) (2.2.2)\n",
            "Requirement already satisfied: matplotlib!=3.6.1,>=3.4 in /usr/local/lib/python3.10/dist-packages (from seaborn) (3.7.1)\n",
            "Requirement already satisfied: contourpy>=1.0.1 in /usr/local/lib/python3.10/dist-packages (from matplotlib!=3.6.1,>=3.4->seaborn) (1.3.0)\n",
            "Requirement already satisfied: cycler>=0.10 in /usr/local/lib/python3.10/dist-packages (from matplotlib!=3.6.1,>=3.4->seaborn) (0.12.1)\n",
            "Requirement already satisfied: fonttools>=4.22.0 in /usr/local/lib/python3.10/dist-packages (from matplotlib!=3.6.1,>=3.4->seaborn) (4.54.1)\n",
            "Requirement already satisfied: kiwisolver>=1.0.1 in /usr/local/lib/python3.10/dist-packages (from matplotlib!=3.6.1,>=3.4->seaborn) (1.4.7)\n",
            "Requirement already satisfied: packaging>=20.0 in /usr/local/lib/python3.10/dist-packages (from matplotlib!=3.6.1,>=3.4->seaborn) (24.1)\n",
            "Requirement already satisfied: pillow>=6.2.0 in /usr/local/lib/python3.10/dist-packages (from matplotlib!=3.6.1,>=3.4->seaborn) (10.4.0)\n",
            "Requirement already satisfied: pyparsing>=2.3.1 in /usr/local/lib/python3.10/dist-packages (from matplotlib!=3.6.1,>=3.4->seaborn) (3.1.4)\n",
            "Requirement already satisfied: python-dateutil>=2.7 in /usr/local/lib/python3.10/dist-packages (from matplotlib!=3.6.1,>=3.4->seaborn) (2.8.2)\n",
            "Requirement already satisfied: pytz>=2020.1 in /usr/local/lib/python3.10/dist-packages (from pandas>=1.2->seaborn) (2024.2)\n",
            "Requirement already satisfied: tzdata>=2022.7 in /usr/local/lib/python3.10/dist-packages (from pandas>=1.2->seaborn) (2024.2)\n",
            "Requirement already satisfied: six>=1.5 in /usr/local/lib/python3.10/dist-packages (from python-dateutil>=2.7->matplotlib!=3.6.1,>=3.4->seaborn) (1.16.0)\n"
          ]
        }
      ]
    },
    {
      "cell_type": "code",
      "execution_count": 2,
      "metadata": {
        "colab": {
          "base_uri": "https://localhost:8080/"
        },
        "id": "xJzGzg0FzrC0",
        "outputId": "8adc88a3-6990-40c4-c1bc-1b90f46ed3de"
      },
      "outputs": [
        {
          "output_type": "stream",
          "name": "stdout",
          "text": [
            "Requirement already satisfied: gdown in /usr/local/lib/python3.10/dist-packages (5.2.0)\n",
            "Requirement already satisfied: beautifulsoup4 in /usr/local/lib/python3.10/dist-packages (from gdown) (4.12.3)\n",
            "Requirement already satisfied: filelock in /usr/local/lib/python3.10/dist-packages (from gdown) (3.16.1)\n",
            "Requirement already satisfied: requests[socks] in /usr/local/lib/python3.10/dist-packages (from gdown) (2.32.3)\n",
            "Requirement already satisfied: tqdm in /usr/local/lib/python3.10/dist-packages (from gdown) (4.66.5)\n",
            "Requirement already satisfied: soupsieve>1.2 in /usr/local/lib/python3.10/dist-packages (from beautifulsoup4->gdown) (2.6)\n",
            "Requirement already satisfied: charset-normalizer<4,>=2 in /usr/local/lib/python3.10/dist-packages (from requests[socks]->gdown) (3.3.2)\n",
            "Requirement already satisfied: idna<4,>=2.5 in /usr/local/lib/python3.10/dist-packages (from requests[socks]->gdown) (3.10)\n",
            "Requirement already satisfied: urllib3<3,>=1.21.1 in /usr/local/lib/python3.10/dist-packages (from requests[socks]->gdown) (2.2.3)\n",
            "Requirement already satisfied: certifi>=2017.4.17 in /usr/local/lib/python3.10/dist-packages (from requests[socks]->gdown) (2024.8.30)\n",
            "Requirement already satisfied: PySocks!=1.5.7,>=1.5.6 in /usr/local/lib/python3.10/dist-packages (from requests[socks]->gdown) (1.7.1)\n"
          ]
        }
      ],
      "source": [
        "!pip install gdown\n",
        "import gdown"
      ]
    },
    {
      "cell_type": "code",
      "source": [
        "# Required Libraries\n",
        "import pandas as pd\n",
        "from sklearn.model_selection import train_test_split\n",
        "from sklearn.preprocessing import StandardScaler\n",
        "from imblearn.over_sampling import SMOTE\n",
        "from sklearn.ensemble import RandomForestClassifier\n",
        "from sklearn.metrics import classification_report, confusion_matrix"
      ],
      "metadata": {
        "id": "G2mRgdV89K2S"
      },
      "execution_count": 3,
      "outputs": []
    },
    {
      "cell_type": "code",
      "source": [
        "file_ids = [\n",
        "    '1zOeCqtGZjAj_nSLe3W5MH5pDQM28bPde',  # Replace with actual file ID\n",
        "    '1fagr2rKW8EN-Psc5UlD9BFfa0rRRF6i3',  # Replace with actual file ID\n",
        "    '1WL00LFkCA2ylV8_8c6jm52bnEhGLcKsq',   # Replace with actual file ID\n",
        "    '1xr_QBU3Ab42nW1ELl0NUydx4Rbx60TVR']\n",
        "    #'1MpqHsC5wQSu9CxlhJimz25EVcYubSMhu',\n",
        "    #'18mKfJHXinmfwPpaYNU2D6xHwq4dQuEuL',\n",
        "    #'1h1lMHytamf4Kc66NfAfMfBzDbmwM5Ub5',\n",
        "    #'11__JhC64_D4ezxjF8d0dPNRDJF-TY6Pq'\n",
        "#]\n",
        "\n",
        "\n",
        "# Download each file\n",
        "for i, file_id in enumerate(file_ids):\n",
        "    url = f'https://drive.google.com/uc?id={file_id}'\n",
        "    gdown.download(url, f'dataset_{i + 1}.csv', quiet=False)  # Saves as dataset_1.csv, dataset_2.csv, etc."
      ],
      "metadata": {
        "id": "yQuMhkmd0NNe",
        "outputId": "67794a70-881b-4c9c-b899-27eee428a8bf",
        "colab": {
          "base_uri": "https://localhost:8080/"
        }
      },
      "execution_count": 4,
      "outputs": [
        {
          "output_type": "stream",
          "name": "stderr",
          "text": [
            "Downloading...\n",
            "From (original): https://drive.google.com/uc?id=1zOeCqtGZjAj_nSLe3W5MH5pDQM28bPde\n",
            "From (redirected): https://drive.google.com/uc?id=1zOeCqtGZjAj_nSLe3W5MH5pDQM28bPde&confirm=t&uuid=f27588f0-e723-41be-bfc3-e0e8e7e976bb\n",
            "To: /content/dataset_1.csv\n",
            "100%|██████████| 225M/225M [00:16<00:00, 14.0MB/s]\n",
            "Downloading...\n",
            "From (original): https://drive.google.com/uc?id=1fagr2rKW8EN-Psc5UlD9BFfa0rRRF6i3\n",
            "From (redirected): https://drive.google.com/uc?id=1fagr2rKW8EN-Psc5UlD9BFfa0rRRF6i3&confirm=t&uuid=9e1f3281-1ec0-4704-b9d4-e55d12fe7f34\n",
            "To: /content/dataset_2.csv\n",
            "100%|██████████| 135M/135M [00:06<00:00, 19.5MB/s]\n",
            "Downloading...\n",
            "From: https://drive.google.com/uc?id=1WL00LFkCA2ylV8_8c6jm52bnEhGLcKsq\n",
            "To: /content/dataset_3.csv\n",
            "100%|██████████| 52.0M/52.0M [00:02<00:00, 18.5MB/s]\n",
            "Downloading...\n",
            "From: https://drive.google.com/uc?id=1xr_QBU3Ab42nW1ELl0NUydx4Rbx60TVR\n",
            "To: /content/dataset_4.csv\n",
            "100%|██████████| 83.1M/83.1M [00:02<00:00, 28.7MB/s]\n"
          ]
        }
      ]
    },
    {
      "cell_type": "code",
      "source": [
        "dataset_paths = [\n",
        "    '/content/dataset_1.csv','/content/dataset_2.csv','/content/dataset_3.csv','/content/dataset_4.csv']\n",
        "    #'/content/dataset_5.csv','/content/dataset_6.csv','/content/dataset_7.csv','/content/dataset_8.csv',\n",
        "#]\n",
        "\n",
        "# Make the data frame\n",
        "dataframes = [pd.read_csv(path) for path in dataset_paths]\n",
        "\n",
        "# Combine all datasets into one dataframe\n",
        "combined_dataset = pd.concat(dataframes, ignore_index=True)"
      ],
      "metadata": {
        "id": "Z4B6Sgje9cA8"
      },
      "execution_count": 5,
      "outputs": []
    },
    {
      "cell_type": "code",
      "source": [
        "combined_dataset.describe()"
      ],
      "metadata": {
        "id": "M4JSokVCATPY",
        "outputId": "058773b9-1bf1-41a6-a357-6f0812294efa",
        "colab": {
          "base_uri": "https://localhost:8080/",
          "height": 384
        }
      },
      "execution_count": 6,
      "outputs": [
        {
          "output_type": "execute_result",
          "data": {
            "text/plain": [
              "        Destination Port   Flow Duration   Total Fwd Packets  \\\n",
              "count       1.597580e+06    1.597580e+06        1.597580e+06   \n",
              "mean        7.265925e+03    1.810044e+07        1.017553e+01   \n",
              "std         1.750798e+04    3.685830e+07        7.664489e+02   \n",
              "min         0.000000e+00   -4.000000e+00        1.000000e+00   \n",
              "25%         5.300000e+01    1.700000e+02        2.000000e+00   \n",
              "50%         8.000000e+01    3.168400e+04        2.000000e+00   \n",
              "75%         4.430000e+02    5.327068e+06        6.000000e+00   \n",
              "max         6.553300e+04    1.200000e+08        2.064460e+05   \n",
              "\n",
              "        Total Backward Packets  Total Length of Fwd Packets  \\\n",
              "count             1.597580e+06                 1.597580e+06   \n",
              "mean              1.135632e+01                 5.503592e+02   \n",
              "std               1.021730e+03                 1.242696e+04   \n",
              "min               0.000000e+00                 0.000000e+00   \n",
              "25%               1.000000e+00                 1.200000e+01   \n",
              "50%               2.000000e+00                 6.800000e+01   \n",
              "75%               5.000000e+00                 3.390000e+02   \n",
              "max               2.760720e+05                 1.290000e+07   \n",
              "\n",
              "        Total Length of Bwd Packets   Fwd Packet Length Max  \\\n",
              "count                  1.597580e+06            1.597580e+06   \n",
              "mean                   1.797964e+04            1.930048e+02   \n",
              "std                    2.320795e+06            5.279422e+02   \n",
              "min                    0.000000e+00            0.000000e+00   \n",
              "25%                    0.000000e+00            6.000000e+00   \n",
              "50%                    1.400000e+02            4.100000e+01   \n",
              "75%                    8.150000e+02            2.540000e+02   \n",
              "max                    6.270000e+08            2.482000e+04   \n",
              "\n",
              "        Fwd Packet Length Min   Fwd Packet Length Mean  \\\n",
              "count            1.597580e+06             1.597580e+06   \n",
              "mean             1.777891e+01             5.247342e+01   \n",
              "std              4.359763e+01             1.338825e+02   \n",
              "min              0.000000e+00             0.000000e+00   \n",
              "25%              0.000000e+00             6.000000e+00   \n",
              "50%              2.000000e+00             3.700000e+01   \n",
              "75%              3.700000e+01             5.200000e+01   \n",
              "max              2.065000e+03             4.672000e+03   \n",
              "\n",
              "        Fwd Packet Length Std  ...   act_data_pkt_fwd   min_seg_size_forward  \\\n",
              "count            1.597580e+06  ...       1.597580e+06           1.597580e+06   \n",
              "mean             6.226569e+01  ...       5.129408e+00          -3.670333e+03   \n",
              "std              1.846350e+02  ...       5.883265e+02           1.408748e+06   \n",
              "min              0.000000e+00  ...       0.000000e+00          -5.368707e+08   \n",
              "25%              0.000000e+00  ...       0.000000e+00           2.000000e+01   \n",
              "50%              0.000000e+00  ...       1.000000e+00           2.400000e+01   \n",
              "75%              8.119570e+01  ...       2.000000e+00           3.200000e+01   \n",
              "max              6.429191e+03  ...       1.971240e+05           1.380000e+02   \n",
              "\n",
              "        Active Mean    Active Std    Active Max    Active Min     Idle Mean  \\\n",
              "count  1.597580e+06  1.597580e+06  1.597580e+06  1.597580e+06  1.597580e+06   \n",
              "mean   7.929145e+04  4.616986e+04  1.578908e+05  5.308831e+04  1.137177e+07   \n",
              "std    6.403377e+05  4.171596e+05  1.043148e+06  5.626373e+05  2.830962e+07   \n",
              "min    0.000000e+00  0.000000e+00  0.000000e+00  0.000000e+00  0.000000e+00   \n",
              "25%    0.000000e+00  0.000000e+00  0.000000e+00  0.000000e+00  0.000000e+00   \n",
              "50%    0.000000e+00  0.000000e+00  0.000000e+00  0.000000e+00  0.000000e+00   \n",
              "75%    0.000000e+00  0.000000e+00  0.000000e+00  0.000000e+00  0.000000e+00   \n",
              "max    1.070000e+08  7.420000e+07  1.070000e+08  1.070000e+08  1.200000e+08   \n",
              "\n",
              "           Idle Std      Idle Max      Idle Min  \n",
              "count  1.597580e+06  1.597580e+06  1.597580e+06  \n",
              "mean   2.833167e+05  1.160782e+07  1.112820e+07  \n",
              "std    3.265741e+06  2.864680e+07  2.820277e+07  \n",
              "min    0.000000e+00  0.000000e+00  0.000000e+00  \n",
              "25%    0.000000e+00  0.000000e+00  0.000000e+00  \n",
              "50%    0.000000e+00  0.000000e+00  0.000000e+00  \n",
              "75%    0.000000e+00  0.000000e+00  0.000000e+00  \n",
              "max    7.690000e+07  1.200000e+08  1.200000e+08  \n",
              "\n",
              "[8 rows x 78 columns]"
            ],
            "text/html": [
              "\n",
              "  <div id=\"df-164f6082-04be-4ca4-bff5-f9bd99126218\" class=\"colab-df-container\">\n",
              "    <div>\n",
              "<style scoped>\n",
              "    .dataframe tbody tr th:only-of-type {\n",
              "        vertical-align: middle;\n",
              "    }\n",
              "\n",
              "    .dataframe tbody tr th {\n",
              "        vertical-align: top;\n",
              "    }\n",
              "\n",
              "    .dataframe thead th {\n",
              "        text-align: right;\n",
              "    }\n",
              "</style>\n",
              "<table border=\"1\" class=\"dataframe\">\n",
              "  <thead>\n",
              "    <tr style=\"text-align: right;\">\n",
              "      <th></th>\n",
              "      <th>Destination Port</th>\n",
              "      <th>Flow Duration</th>\n",
              "      <th>Total Fwd Packets</th>\n",
              "      <th>Total Backward Packets</th>\n",
              "      <th>Total Length of Fwd Packets</th>\n",
              "      <th>Total Length of Bwd Packets</th>\n",
              "      <th>Fwd Packet Length Max</th>\n",
              "      <th>Fwd Packet Length Min</th>\n",
              "      <th>Fwd Packet Length Mean</th>\n",
              "      <th>Fwd Packet Length Std</th>\n",
              "      <th>...</th>\n",
              "      <th>act_data_pkt_fwd</th>\n",
              "      <th>min_seg_size_forward</th>\n",
              "      <th>Active Mean</th>\n",
              "      <th>Active Std</th>\n",
              "      <th>Active Max</th>\n",
              "      <th>Active Min</th>\n",
              "      <th>Idle Mean</th>\n",
              "      <th>Idle Std</th>\n",
              "      <th>Idle Max</th>\n",
              "      <th>Idle Min</th>\n",
              "    </tr>\n",
              "  </thead>\n",
              "  <tbody>\n",
              "    <tr>\n",
              "      <th>count</th>\n",
              "      <td>1.597580e+06</td>\n",
              "      <td>1.597580e+06</td>\n",
              "      <td>1.597580e+06</td>\n",
              "      <td>1.597580e+06</td>\n",
              "      <td>1.597580e+06</td>\n",
              "      <td>1.597580e+06</td>\n",
              "      <td>1.597580e+06</td>\n",
              "      <td>1.597580e+06</td>\n",
              "      <td>1.597580e+06</td>\n",
              "      <td>1.597580e+06</td>\n",
              "      <td>...</td>\n",
              "      <td>1.597580e+06</td>\n",
              "      <td>1.597580e+06</td>\n",
              "      <td>1.597580e+06</td>\n",
              "      <td>1.597580e+06</td>\n",
              "      <td>1.597580e+06</td>\n",
              "      <td>1.597580e+06</td>\n",
              "      <td>1.597580e+06</td>\n",
              "      <td>1.597580e+06</td>\n",
              "      <td>1.597580e+06</td>\n",
              "      <td>1.597580e+06</td>\n",
              "    </tr>\n",
              "    <tr>\n",
              "      <th>mean</th>\n",
              "      <td>7.265925e+03</td>\n",
              "      <td>1.810044e+07</td>\n",
              "      <td>1.017553e+01</td>\n",
              "      <td>1.135632e+01</td>\n",
              "      <td>5.503592e+02</td>\n",
              "      <td>1.797964e+04</td>\n",
              "      <td>1.930048e+02</td>\n",
              "      <td>1.777891e+01</td>\n",
              "      <td>5.247342e+01</td>\n",
              "      <td>6.226569e+01</td>\n",
              "      <td>...</td>\n",
              "      <td>5.129408e+00</td>\n",
              "      <td>-3.670333e+03</td>\n",
              "      <td>7.929145e+04</td>\n",
              "      <td>4.616986e+04</td>\n",
              "      <td>1.578908e+05</td>\n",
              "      <td>5.308831e+04</td>\n",
              "      <td>1.137177e+07</td>\n",
              "      <td>2.833167e+05</td>\n",
              "      <td>1.160782e+07</td>\n",
              "      <td>1.112820e+07</td>\n",
              "    </tr>\n",
              "    <tr>\n",
              "      <th>std</th>\n",
              "      <td>1.750798e+04</td>\n",
              "      <td>3.685830e+07</td>\n",
              "      <td>7.664489e+02</td>\n",
              "      <td>1.021730e+03</td>\n",
              "      <td>1.242696e+04</td>\n",
              "      <td>2.320795e+06</td>\n",
              "      <td>5.279422e+02</td>\n",
              "      <td>4.359763e+01</td>\n",
              "      <td>1.338825e+02</td>\n",
              "      <td>1.846350e+02</td>\n",
              "      <td>...</td>\n",
              "      <td>5.883265e+02</td>\n",
              "      <td>1.408748e+06</td>\n",
              "      <td>6.403377e+05</td>\n",
              "      <td>4.171596e+05</td>\n",
              "      <td>1.043148e+06</td>\n",
              "      <td>5.626373e+05</td>\n",
              "      <td>2.830962e+07</td>\n",
              "      <td>3.265741e+06</td>\n",
              "      <td>2.864680e+07</td>\n",
              "      <td>2.820277e+07</td>\n",
              "    </tr>\n",
              "    <tr>\n",
              "      <th>min</th>\n",
              "      <td>0.000000e+00</td>\n",
              "      <td>-4.000000e+00</td>\n",
              "      <td>1.000000e+00</td>\n",
              "      <td>0.000000e+00</td>\n",
              "      <td>0.000000e+00</td>\n",
              "      <td>0.000000e+00</td>\n",
              "      <td>0.000000e+00</td>\n",
              "      <td>0.000000e+00</td>\n",
              "      <td>0.000000e+00</td>\n",
              "      <td>0.000000e+00</td>\n",
              "      <td>...</td>\n",
              "      <td>0.000000e+00</td>\n",
              "      <td>-5.368707e+08</td>\n",
              "      <td>0.000000e+00</td>\n",
              "      <td>0.000000e+00</td>\n",
              "      <td>0.000000e+00</td>\n",
              "      <td>0.000000e+00</td>\n",
              "      <td>0.000000e+00</td>\n",
              "      <td>0.000000e+00</td>\n",
              "      <td>0.000000e+00</td>\n",
              "      <td>0.000000e+00</td>\n",
              "    </tr>\n",
              "    <tr>\n",
              "      <th>25%</th>\n",
              "      <td>5.300000e+01</td>\n",
              "      <td>1.700000e+02</td>\n",
              "      <td>2.000000e+00</td>\n",
              "      <td>1.000000e+00</td>\n",
              "      <td>1.200000e+01</td>\n",
              "      <td>0.000000e+00</td>\n",
              "      <td>6.000000e+00</td>\n",
              "      <td>0.000000e+00</td>\n",
              "      <td>6.000000e+00</td>\n",
              "      <td>0.000000e+00</td>\n",
              "      <td>...</td>\n",
              "      <td>0.000000e+00</td>\n",
              "      <td>2.000000e+01</td>\n",
              "      <td>0.000000e+00</td>\n",
              "      <td>0.000000e+00</td>\n",
              "      <td>0.000000e+00</td>\n",
              "      <td>0.000000e+00</td>\n",
              "      <td>0.000000e+00</td>\n",
              "      <td>0.000000e+00</td>\n",
              "      <td>0.000000e+00</td>\n",
              "      <td>0.000000e+00</td>\n",
              "    </tr>\n",
              "    <tr>\n",
              "      <th>50%</th>\n",
              "      <td>8.000000e+01</td>\n",
              "      <td>3.168400e+04</td>\n",
              "      <td>2.000000e+00</td>\n",
              "      <td>2.000000e+00</td>\n",
              "      <td>6.800000e+01</td>\n",
              "      <td>1.400000e+02</td>\n",
              "      <td>4.100000e+01</td>\n",
              "      <td>2.000000e+00</td>\n",
              "      <td>3.700000e+01</td>\n",
              "      <td>0.000000e+00</td>\n",
              "      <td>...</td>\n",
              "      <td>1.000000e+00</td>\n",
              "      <td>2.400000e+01</td>\n",
              "      <td>0.000000e+00</td>\n",
              "      <td>0.000000e+00</td>\n",
              "      <td>0.000000e+00</td>\n",
              "      <td>0.000000e+00</td>\n",
              "      <td>0.000000e+00</td>\n",
              "      <td>0.000000e+00</td>\n",
              "      <td>0.000000e+00</td>\n",
              "      <td>0.000000e+00</td>\n",
              "    </tr>\n",
              "    <tr>\n",
              "      <th>75%</th>\n",
              "      <td>4.430000e+02</td>\n",
              "      <td>5.327068e+06</td>\n",
              "      <td>6.000000e+00</td>\n",
              "      <td>5.000000e+00</td>\n",
              "      <td>3.390000e+02</td>\n",
              "      <td>8.150000e+02</td>\n",
              "      <td>2.540000e+02</td>\n",
              "      <td>3.700000e+01</td>\n",
              "      <td>5.200000e+01</td>\n",
              "      <td>8.119570e+01</td>\n",
              "      <td>...</td>\n",
              "      <td>2.000000e+00</td>\n",
              "      <td>3.200000e+01</td>\n",
              "      <td>0.000000e+00</td>\n",
              "      <td>0.000000e+00</td>\n",
              "      <td>0.000000e+00</td>\n",
              "      <td>0.000000e+00</td>\n",
              "      <td>0.000000e+00</td>\n",
              "      <td>0.000000e+00</td>\n",
              "      <td>0.000000e+00</td>\n",
              "      <td>0.000000e+00</td>\n",
              "    </tr>\n",
              "    <tr>\n",
              "      <th>max</th>\n",
              "      <td>6.553300e+04</td>\n",
              "      <td>1.200000e+08</td>\n",
              "      <td>2.064460e+05</td>\n",
              "      <td>2.760720e+05</td>\n",
              "      <td>1.290000e+07</td>\n",
              "      <td>6.270000e+08</td>\n",
              "      <td>2.482000e+04</td>\n",
              "      <td>2.065000e+03</td>\n",
              "      <td>4.672000e+03</td>\n",
              "      <td>6.429191e+03</td>\n",
              "      <td>...</td>\n",
              "      <td>1.971240e+05</td>\n",
              "      <td>1.380000e+02</td>\n",
              "      <td>1.070000e+08</td>\n",
              "      <td>7.420000e+07</td>\n",
              "      <td>1.070000e+08</td>\n",
              "      <td>1.070000e+08</td>\n",
              "      <td>1.200000e+08</td>\n",
              "      <td>7.690000e+07</td>\n",
              "      <td>1.200000e+08</td>\n",
              "      <td>1.200000e+08</td>\n",
              "    </tr>\n",
              "  </tbody>\n",
              "</table>\n",
              "<p>8 rows × 78 columns</p>\n",
              "</div>\n",
              "    <div class=\"colab-df-buttons\">\n",
              "\n",
              "  <div class=\"colab-df-container\">\n",
              "    <button class=\"colab-df-convert\" onclick=\"convertToInteractive('df-164f6082-04be-4ca4-bff5-f9bd99126218')\"\n",
              "            title=\"Convert this dataframe to an interactive table.\"\n",
              "            style=\"display:none;\">\n",
              "\n",
              "  <svg xmlns=\"http://www.w3.org/2000/svg\" height=\"24px\" viewBox=\"0 -960 960 960\">\n",
              "    <path d=\"M120-120v-720h720v720H120Zm60-500h600v-160H180v160Zm220 220h160v-160H400v160Zm0 220h160v-160H400v160ZM180-400h160v-160H180v160Zm440 0h160v-160H620v160ZM180-180h160v-160H180v160Zm440 0h160v-160H620v160Z\"/>\n",
              "  </svg>\n",
              "    </button>\n",
              "\n",
              "  <style>\n",
              "    .colab-df-container {\n",
              "      display:flex;\n",
              "      gap: 12px;\n",
              "    }\n",
              "\n",
              "    .colab-df-convert {\n",
              "      background-color: #E8F0FE;\n",
              "      border: none;\n",
              "      border-radius: 50%;\n",
              "      cursor: pointer;\n",
              "      display: none;\n",
              "      fill: #1967D2;\n",
              "      height: 32px;\n",
              "      padding: 0 0 0 0;\n",
              "      width: 32px;\n",
              "    }\n",
              "\n",
              "    .colab-df-convert:hover {\n",
              "      background-color: #E2EBFA;\n",
              "      box-shadow: 0px 1px 2px rgba(60, 64, 67, 0.3), 0px 1px 3px 1px rgba(60, 64, 67, 0.15);\n",
              "      fill: #174EA6;\n",
              "    }\n",
              "\n",
              "    .colab-df-buttons div {\n",
              "      margin-bottom: 4px;\n",
              "    }\n",
              "\n",
              "    [theme=dark] .colab-df-convert {\n",
              "      background-color: #3B4455;\n",
              "      fill: #D2E3FC;\n",
              "    }\n",
              "\n",
              "    [theme=dark] .colab-df-convert:hover {\n",
              "      background-color: #434B5C;\n",
              "      box-shadow: 0px 1px 3px 1px rgba(0, 0, 0, 0.15);\n",
              "      filter: drop-shadow(0px 1px 2px rgba(0, 0, 0, 0.3));\n",
              "      fill: #FFFFFF;\n",
              "    }\n",
              "  </style>\n",
              "\n",
              "    <script>\n",
              "      const buttonEl =\n",
              "        document.querySelector('#df-164f6082-04be-4ca4-bff5-f9bd99126218 button.colab-df-convert');\n",
              "      buttonEl.style.display =\n",
              "        google.colab.kernel.accessAllowed ? 'block' : 'none';\n",
              "\n",
              "      async function convertToInteractive(key) {\n",
              "        const element = document.querySelector('#df-164f6082-04be-4ca4-bff5-f9bd99126218');\n",
              "        const dataTable =\n",
              "          await google.colab.kernel.invokeFunction('convertToInteractive',\n",
              "                                                    [key], {});\n",
              "        if (!dataTable) return;\n",
              "\n",
              "        const docLinkHtml = 'Like what you see? Visit the ' +\n",
              "          '<a target=\"_blank\" href=https://colab.research.google.com/notebooks/data_table.ipynb>data table notebook</a>'\n",
              "          + ' to learn more about interactive tables.';\n",
              "        element.innerHTML = '';\n",
              "        dataTable['output_type'] = 'display_data';\n",
              "        await google.colab.output.renderOutput(dataTable, element);\n",
              "        const docLink = document.createElement('div');\n",
              "        docLink.innerHTML = docLinkHtml;\n",
              "        element.appendChild(docLink);\n",
              "      }\n",
              "    </script>\n",
              "  </div>\n",
              "\n",
              "\n",
              "<div id=\"df-ec1c1fa6-d9d2-4ab6-a2ee-c26032e8f2fd\">\n",
              "  <button class=\"colab-df-quickchart\" onclick=\"quickchart('df-ec1c1fa6-d9d2-4ab6-a2ee-c26032e8f2fd')\"\n",
              "            title=\"Suggest charts\"\n",
              "            style=\"display:none;\">\n",
              "\n",
              "<svg xmlns=\"http://www.w3.org/2000/svg\" height=\"24px\"viewBox=\"0 0 24 24\"\n",
              "     width=\"24px\">\n",
              "    <g>\n",
              "        <path d=\"M19 3H5c-1.1 0-2 .9-2 2v14c0 1.1.9 2 2 2h14c1.1 0 2-.9 2-2V5c0-1.1-.9-2-2-2zM9 17H7v-7h2v7zm4 0h-2V7h2v10zm4 0h-2v-4h2v4z\"/>\n",
              "    </g>\n",
              "</svg>\n",
              "  </button>\n",
              "\n",
              "<style>\n",
              "  .colab-df-quickchart {\n",
              "      --bg-color: #E8F0FE;\n",
              "      --fill-color: #1967D2;\n",
              "      --hover-bg-color: #E2EBFA;\n",
              "      --hover-fill-color: #174EA6;\n",
              "      --disabled-fill-color: #AAA;\n",
              "      --disabled-bg-color: #DDD;\n",
              "  }\n",
              "\n",
              "  [theme=dark] .colab-df-quickchart {\n",
              "      --bg-color: #3B4455;\n",
              "      --fill-color: #D2E3FC;\n",
              "      --hover-bg-color: #434B5C;\n",
              "      --hover-fill-color: #FFFFFF;\n",
              "      --disabled-bg-color: #3B4455;\n",
              "      --disabled-fill-color: #666;\n",
              "  }\n",
              "\n",
              "  .colab-df-quickchart {\n",
              "    background-color: var(--bg-color);\n",
              "    border: none;\n",
              "    border-radius: 50%;\n",
              "    cursor: pointer;\n",
              "    display: none;\n",
              "    fill: var(--fill-color);\n",
              "    height: 32px;\n",
              "    padding: 0;\n",
              "    width: 32px;\n",
              "  }\n",
              "\n",
              "  .colab-df-quickchart:hover {\n",
              "    background-color: var(--hover-bg-color);\n",
              "    box-shadow: 0 1px 2px rgba(60, 64, 67, 0.3), 0 1px 3px 1px rgba(60, 64, 67, 0.15);\n",
              "    fill: var(--button-hover-fill-color);\n",
              "  }\n",
              "\n",
              "  .colab-df-quickchart-complete:disabled,\n",
              "  .colab-df-quickchart-complete:disabled:hover {\n",
              "    background-color: var(--disabled-bg-color);\n",
              "    fill: var(--disabled-fill-color);\n",
              "    box-shadow: none;\n",
              "  }\n",
              "\n",
              "  .colab-df-spinner {\n",
              "    border: 2px solid var(--fill-color);\n",
              "    border-color: transparent;\n",
              "    border-bottom-color: var(--fill-color);\n",
              "    animation:\n",
              "      spin 1s steps(1) infinite;\n",
              "  }\n",
              "\n",
              "  @keyframes spin {\n",
              "    0% {\n",
              "      border-color: transparent;\n",
              "      border-bottom-color: var(--fill-color);\n",
              "      border-left-color: var(--fill-color);\n",
              "    }\n",
              "    20% {\n",
              "      border-color: transparent;\n",
              "      border-left-color: var(--fill-color);\n",
              "      border-top-color: var(--fill-color);\n",
              "    }\n",
              "    30% {\n",
              "      border-color: transparent;\n",
              "      border-left-color: var(--fill-color);\n",
              "      border-top-color: var(--fill-color);\n",
              "      border-right-color: var(--fill-color);\n",
              "    }\n",
              "    40% {\n",
              "      border-color: transparent;\n",
              "      border-right-color: var(--fill-color);\n",
              "      border-top-color: var(--fill-color);\n",
              "    }\n",
              "    60% {\n",
              "      border-color: transparent;\n",
              "      border-right-color: var(--fill-color);\n",
              "    }\n",
              "    80% {\n",
              "      border-color: transparent;\n",
              "      border-right-color: var(--fill-color);\n",
              "      border-bottom-color: var(--fill-color);\n",
              "    }\n",
              "    90% {\n",
              "      border-color: transparent;\n",
              "      border-bottom-color: var(--fill-color);\n",
              "    }\n",
              "  }\n",
              "</style>\n",
              "\n",
              "  <script>\n",
              "    async function quickchart(key) {\n",
              "      const quickchartButtonEl =\n",
              "        document.querySelector('#' + key + ' button');\n",
              "      quickchartButtonEl.disabled = true;  // To prevent multiple clicks.\n",
              "      quickchartButtonEl.classList.add('colab-df-spinner');\n",
              "      try {\n",
              "        const charts = await google.colab.kernel.invokeFunction(\n",
              "            'suggestCharts', [key], {});\n",
              "      } catch (error) {\n",
              "        console.error('Error during call to suggestCharts:', error);\n",
              "      }\n",
              "      quickchartButtonEl.classList.remove('colab-df-spinner');\n",
              "      quickchartButtonEl.classList.add('colab-df-quickchart-complete');\n",
              "    }\n",
              "    (() => {\n",
              "      let quickchartButtonEl =\n",
              "        document.querySelector('#df-ec1c1fa6-d9d2-4ab6-a2ee-c26032e8f2fd button');\n",
              "      quickchartButtonEl.style.display =\n",
              "        google.colab.kernel.accessAllowed ? 'block' : 'none';\n",
              "    })();\n",
              "  </script>\n",
              "</div>\n",
              "\n",
              "    </div>\n",
              "  </div>\n"
            ],
            "application/vnd.google.colaboratory.intrinsic+json": {
              "type": "dataframe"
            }
          },
          "metadata": {},
          "execution_count": 6
        }
      ]
    },
    {
      "cell_type": "code",
      "source": [
        "combined_dataset.shape"
      ],
      "metadata": {
        "id": "d3t3Uy7JAhj1",
        "outputId": "c6d7fcab-b19f-4563-dcbe-86e6c017ca71",
        "colab": {
          "base_uri": "https://localhost:8080/"
        }
      },
      "execution_count": 7,
      "outputs": [
        {
          "output_type": "execute_result",
          "data": {
            "text/plain": [
              "(1597580, 79)"
            ]
          },
          "metadata": {},
          "execution_count": 7
        }
      ]
    },
    {
      "cell_type": "code",
      "source": [
        "combined_dataset.info()"
      ],
      "metadata": {
        "id": "ZIxOX8_R1Sin",
        "outputId": "5e6d6f50-48c2-4d4f-8d24-2e5e9f73cbc5",
        "colab": {
          "base_uri": "https://localhost:8080/"
        }
      },
      "execution_count": 8,
      "outputs": [
        {
          "output_type": "stream",
          "name": "stdout",
          "text": [
            "<class 'pandas.core.frame.DataFrame'>\n",
            "RangeIndex: 1597580 entries, 0 to 1597579\n",
            "Data columns (total 79 columns):\n",
            " #   Column                        Non-Null Count    Dtype  \n",
            "---  ------                        --------------    -----  \n",
            " 0    Destination Port             1597580 non-null  int64  \n",
            " 1    Flow Duration                1597580 non-null  int64  \n",
            " 2    Total Fwd Packets            1597580 non-null  int64  \n",
            " 3    Total Backward Packets       1597580 non-null  int64  \n",
            " 4   Total Length of Fwd Packets   1597580 non-null  int64  \n",
            " 5    Total Length of Bwd Packets  1597580 non-null  int64  \n",
            " 6    Fwd Packet Length Max        1597580 non-null  int64  \n",
            " 7    Fwd Packet Length Min        1597580 non-null  int64  \n",
            " 8    Fwd Packet Length Mean       1597580 non-null  float64\n",
            " 9    Fwd Packet Length Std        1597580 non-null  float64\n",
            " 10  Bwd Packet Length Max         1597580 non-null  int64  \n",
            " 11   Bwd Packet Length Min        1597580 non-null  int64  \n",
            " 12   Bwd Packet Length Mean       1597580 non-null  float64\n",
            " 13   Bwd Packet Length Std        1597580 non-null  float64\n",
            " 14  Flow Bytes/s                  1596333 non-null  float64\n",
            " 15   Flow Packets/s               1597580 non-null  float64\n",
            " 16   Flow IAT Mean                1597580 non-null  float64\n",
            " 17   Flow IAT Std                 1597580 non-null  float64\n",
            " 18   Flow IAT Max                 1597580 non-null  int64  \n",
            " 19   Flow IAT Min                 1597580 non-null  int64  \n",
            " 20  Fwd IAT Total                 1597580 non-null  int64  \n",
            " 21   Fwd IAT Mean                 1597580 non-null  float64\n",
            " 22   Fwd IAT Std                  1597580 non-null  float64\n",
            " 23   Fwd IAT Max                  1597580 non-null  int64  \n",
            " 24   Fwd IAT Min                  1597580 non-null  int64  \n",
            " 25  Bwd IAT Total                 1597580 non-null  int64  \n",
            " 26   Bwd IAT Mean                 1597580 non-null  float64\n",
            " 27   Bwd IAT Std                  1597580 non-null  float64\n",
            " 28   Bwd IAT Max                  1597580 non-null  int64  \n",
            " 29   Bwd IAT Min                  1597580 non-null  int64  \n",
            " 30  Fwd PSH Flags                 1597580 non-null  int64  \n",
            " 31   Bwd PSH Flags                1597580 non-null  int64  \n",
            " 32   Fwd URG Flags                1597580 non-null  int64  \n",
            " 33   Bwd URG Flags                1597580 non-null  int64  \n",
            " 34   Fwd Header Length            1597580 non-null  int64  \n",
            " 35   Bwd Header Length            1597580 non-null  int64  \n",
            " 36  Fwd Packets/s                 1597580 non-null  float64\n",
            " 37   Bwd Packets/s                1597580 non-null  float64\n",
            " 38   Min Packet Length            1597580 non-null  int64  \n",
            " 39   Max Packet Length            1597580 non-null  int64  \n",
            " 40   Packet Length Mean           1597580 non-null  float64\n",
            " 41   Packet Length Std            1597580 non-null  float64\n",
            " 42   Packet Length Variance       1597580 non-null  float64\n",
            " 43  FIN Flag Count                1597580 non-null  int64  \n",
            " 44   SYN Flag Count               1597580 non-null  int64  \n",
            " 45   RST Flag Count               1597580 non-null  int64  \n",
            " 46   PSH Flag Count               1597580 non-null  int64  \n",
            " 47   ACK Flag Count               1597580 non-null  int64  \n",
            " 48   URG Flag Count               1597580 non-null  int64  \n",
            " 49   CWE Flag Count               1597580 non-null  int64  \n",
            " 50   ECE Flag Count               1597580 non-null  int64  \n",
            " 51   Down/Up Ratio                1597580 non-null  int64  \n",
            " 52   Average Packet Size          1597580 non-null  float64\n",
            " 53   Avg Fwd Segment Size         1597580 non-null  float64\n",
            " 54   Avg Bwd Segment Size         1597580 non-null  float64\n",
            " 55   Fwd Header Length.1          1597580 non-null  int64  \n",
            " 56  Fwd Avg Bytes/Bulk            1597580 non-null  int64  \n",
            " 57   Fwd Avg Packets/Bulk         1597580 non-null  int64  \n",
            " 58   Fwd Avg Bulk Rate            1597580 non-null  int64  \n",
            " 59   Bwd Avg Bytes/Bulk           1597580 non-null  int64  \n",
            " 60   Bwd Avg Packets/Bulk         1597580 non-null  int64  \n",
            " 61  Bwd Avg Bulk Rate             1597580 non-null  int64  \n",
            " 62  Subflow Fwd Packets           1597580 non-null  int64  \n",
            " 63   Subflow Fwd Bytes            1597580 non-null  int64  \n",
            " 64   Subflow Bwd Packets          1597580 non-null  int64  \n",
            " 65   Subflow Bwd Bytes            1597580 non-null  int64  \n",
            " 66  Init_Win_bytes_forward        1597580 non-null  int64  \n",
            " 67   Init_Win_bytes_backward      1597580 non-null  int64  \n",
            " 68   act_data_pkt_fwd             1597580 non-null  int64  \n",
            " 69   min_seg_size_forward         1597580 non-null  int64  \n",
            " 70  Active Mean                   1597580 non-null  float64\n",
            " 71   Active Std                   1597580 non-null  float64\n",
            " 72   Active Max                   1597580 non-null  int64  \n",
            " 73   Active Min                   1597580 non-null  int64  \n",
            " 74  Idle Mean                     1597580 non-null  float64\n",
            " 75   Idle Std                     1597580 non-null  float64\n",
            " 76   Idle Max                     1597580 non-null  int64  \n",
            " 77   Idle Min                     1597580 non-null  int64  \n",
            " 78   Label                        1597580 non-null  object \n",
            "dtypes: float64(24), int64(54), object(1)\n",
            "memory usage: 962.9+ MB\n"
          ]
        }
      ]
    },
    {
      "cell_type": "code",
      "source": [
        "# Pre processing\n",
        "x = combined_dataset.drop(columns=[' Label'])\n",
        "y = combined_dataset[' Label']\n",
        "# Handle missing values\n",
        "x.fillna(x.mean(), inplace=True)\n",
        "\n",
        "# Get 'Label' column that indicates attack types\n",
        "class_distribution = combined_dataset[' Label'].value_counts()\n",
        "print(class_distribution)"
      ],
      "metadata": {
        "id": "y7Zvt-PyBKnz",
        "outputId": "c9c732a9-be4f-4e2d-a03d-c2608d31f2ec",
        "colab": {
          "base_uri": "https://localhost:8080/"
        }
      },
      "execution_count": 9,
      "outputs": [
        {
          "output_type": "stream",
          "name": "stdout",
          "text": [
            " Label\n",
            "BENIGN                        1328857\n",
            "DoS Hulk                       231073\n",
            "DoS GoldenEye                   10293\n",
            "FTP-Patator                      7938\n",
            "SSH-Patator                      5897\n",
            "DoS slowloris                    5796\n",
            "DoS Slowhttptest                 5499\n",
            "Web Attack � Brute Force         1507\n",
            "Web Attack � XSS                  652\n",
            "Infiltration                       36\n",
            "Web Attack � Sql Injection         21\n",
            "Heartbleed                         11\n",
            "Name: count, dtype: int64\n"
          ]
        }
      ]
    },
    {
      "cell_type": "code",
      "source": [
        "#check for missing values\n",
        "missing_values=combined_dataset.isnull().sum()\n",
        "print(\"missing values in each column :\\n\", missing_values[missing_values>0])"
      ],
      "metadata": {
        "id": "uDzdKjeo5uz3",
        "outputId": "5b1f0e78-aef6-4eb3-c679-6683d509536d",
        "colab": {
          "base_uri": "https://localhost:8080/"
        }
      },
      "execution_count": 10,
      "outputs": [
        {
          "output_type": "stream",
          "name": "stdout",
          "text": [
            "missing values in each column :\n",
            " Flow Bytes/s    1247\n",
            "dtype: int64\n"
          ]
        }
      ]
    },
    {
      "cell_type": "code",
      "source": [
        "combined_dataset.columns = combined_dataset.columns.str.strip()\n",
        "print(combined_dataset.columns.tolist())\n",
        "\n",
        "\n",
        "#fill missing values with the mean value of 'Flow Bytes/s' column with its mean value\n",
        "meanVal = combined_dataset['Flow Bytes/s'].mean()\n",
        "\n",
        "#verify if all the missing values are handled\n",
        "combined_dataset['Flow Bytes/s'].fillna(meanVal, inplace=True)\n",
        "missingValCheck = combined_dataset.isnull().sum()\n",
        "\n",
        "#print(\"missing values after handling : \\n\", missingValCheck[missingValCheck>0])\n",
        "print(\"Missing values after handling:\\n\", missingValCheck[missingValCheck > 0])\n",
        "\n",
        "\n"
      ],
      "metadata": {
        "id": "9FlSWH438FNz",
        "outputId": "f5df2893-df2e-4a59-8c23-e6c7f773f212",
        "colab": {
          "base_uri": "https://localhost:8080/"
        }
      },
      "execution_count": 11,
      "outputs": [
        {
          "output_type": "stream",
          "name": "stdout",
          "text": [
            "['Destination Port', 'Flow Duration', 'Total Fwd Packets', 'Total Backward Packets', 'Total Length of Fwd Packets', 'Total Length of Bwd Packets', 'Fwd Packet Length Max', 'Fwd Packet Length Min', 'Fwd Packet Length Mean', 'Fwd Packet Length Std', 'Bwd Packet Length Max', 'Bwd Packet Length Min', 'Bwd Packet Length Mean', 'Bwd Packet Length Std', 'Flow Bytes/s', 'Flow Packets/s', 'Flow IAT Mean', 'Flow IAT Std', 'Flow IAT Max', 'Flow IAT Min', 'Fwd IAT Total', 'Fwd IAT Mean', 'Fwd IAT Std', 'Fwd IAT Max', 'Fwd IAT Min', 'Bwd IAT Total', 'Bwd IAT Mean', 'Bwd IAT Std', 'Bwd IAT Max', 'Bwd IAT Min', 'Fwd PSH Flags', 'Bwd PSH Flags', 'Fwd URG Flags', 'Bwd URG Flags', 'Fwd Header Length', 'Bwd Header Length', 'Fwd Packets/s', 'Bwd Packets/s', 'Min Packet Length', 'Max Packet Length', 'Packet Length Mean', 'Packet Length Std', 'Packet Length Variance', 'FIN Flag Count', 'SYN Flag Count', 'RST Flag Count', 'PSH Flag Count', 'ACK Flag Count', 'URG Flag Count', 'CWE Flag Count', 'ECE Flag Count', 'Down/Up Ratio', 'Average Packet Size', 'Avg Fwd Segment Size', 'Avg Bwd Segment Size', 'Fwd Header Length.1', 'Fwd Avg Bytes/Bulk', 'Fwd Avg Packets/Bulk', 'Fwd Avg Bulk Rate', 'Bwd Avg Bytes/Bulk', 'Bwd Avg Packets/Bulk', 'Bwd Avg Bulk Rate', 'Subflow Fwd Packets', 'Subflow Fwd Bytes', 'Subflow Bwd Packets', 'Subflow Bwd Bytes', 'Init_Win_bytes_forward', 'Init_Win_bytes_backward', 'act_data_pkt_fwd', 'min_seg_size_forward', 'Active Mean', 'Active Std', 'Active Max', 'Active Min', 'Idle Mean', 'Idle Std', 'Idle Max', 'Idle Min', 'Label']\n",
            "Missing values after handling:\n",
            " Series([], dtype: int64)\n"
          ]
        },
        {
          "output_type": "stream",
          "name": "stderr",
          "text": [
            "<ipython-input-11-f1fe732fff2e>:9: FutureWarning: A value is trying to be set on a copy of a DataFrame or Series through chained assignment using an inplace method.\n",
            "The behavior will change in pandas 3.0. This inplace method will never work because the intermediate object on which we are setting values always behaves as a copy.\n",
            "\n",
            "For example, when doing 'df[col].method(value, inplace=True)', try using 'df.method({col: value}, inplace=True)' or df[col] = df[col].method(value) instead, to perform the operation inplace on the original object.\n",
            "\n",
            "\n",
            "  combined_dataset['Flow Bytes/s'].fillna(meanVal, inplace=True)\n"
          ]
        }
      ]
    },
    {
      "cell_type": "code",
      "source": [
        "print(combined_dataset.columns.tolist())\n",
        "\n",
        "print(combined_dataset['Flow Bytes/s'].dtype)\n",
        "\n"
      ],
      "metadata": {
        "id": "7FwXtng89-qo",
        "outputId": "09593afb-d007-4ab5-98bd-8a2e389ccedd",
        "colab": {
          "base_uri": "https://localhost:8080/"
        }
      },
      "execution_count": 12,
      "outputs": [
        {
          "output_type": "stream",
          "name": "stdout",
          "text": [
            "['Destination Port', 'Flow Duration', 'Total Fwd Packets', 'Total Backward Packets', 'Total Length of Fwd Packets', 'Total Length of Bwd Packets', 'Fwd Packet Length Max', 'Fwd Packet Length Min', 'Fwd Packet Length Mean', 'Fwd Packet Length Std', 'Bwd Packet Length Max', 'Bwd Packet Length Min', 'Bwd Packet Length Mean', 'Bwd Packet Length Std', 'Flow Bytes/s', 'Flow Packets/s', 'Flow IAT Mean', 'Flow IAT Std', 'Flow IAT Max', 'Flow IAT Min', 'Fwd IAT Total', 'Fwd IAT Mean', 'Fwd IAT Std', 'Fwd IAT Max', 'Fwd IAT Min', 'Bwd IAT Total', 'Bwd IAT Mean', 'Bwd IAT Std', 'Bwd IAT Max', 'Bwd IAT Min', 'Fwd PSH Flags', 'Bwd PSH Flags', 'Fwd URG Flags', 'Bwd URG Flags', 'Fwd Header Length', 'Bwd Header Length', 'Fwd Packets/s', 'Bwd Packets/s', 'Min Packet Length', 'Max Packet Length', 'Packet Length Mean', 'Packet Length Std', 'Packet Length Variance', 'FIN Flag Count', 'SYN Flag Count', 'RST Flag Count', 'PSH Flag Count', 'ACK Flag Count', 'URG Flag Count', 'CWE Flag Count', 'ECE Flag Count', 'Down/Up Ratio', 'Average Packet Size', 'Avg Fwd Segment Size', 'Avg Bwd Segment Size', 'Fwd Header Length.1', 'Fwd Avg Bytes/Bulk', 'Fwd Avg Packets/Bulk', 'Fwd Avg Bulk Rate', 'Bwd Avg Bytes/Bulk', 'Bwd Avg Packets/Bulk', 'Bwd Avg Bulk Rate', 'Subflow Fwd Packets', 'Subflow Fwd Bytes', 'Subflow Bwd Packets', 'Subflow Bwd Bytes', 'Init_Win_bytes_forward', 'Init_Win_bytes_backward', 'act_data_pkt_fwd', 'min_seg_size_forward', 'Active Mean', 'Active Std', 'Active Max', 'Active Min', 'Idle Mean', 'Idle Std', 'Idle Max', 'Idle Min', 'Label']\n",
            "float64\n"
          ]
        }
      ]
    },
    {
      "cell_type": "code",
      "source": [
        "#separating features as X and target variable as Y\n",
        "X= combined_dataset.drop(columns=['Label'])\n",
        "Y= combined_dataset['Label']\n",
        "#print the shape of X and Y\n",
        "print(\"features shape\",X.shape)\n",
        "print(\"Target variable shape\", Y.shape)"
      ],
      "metadata": {
        "id": "K1BpInec-TT8",
        "outputId": "0eefbd35-257b-44a3-96a4-4095d4cb8c0b",
        "colab": {
          "base_uri": "https://localhost:8080/"
        }
      },
      "execution_count": 13,
      "outputs": [
        {
          "output_type": "stream",
          "name": "stdout",
          "text": [
            "features shape (1597580, 78)\n",
            "Target variable shape (1597580,)\n"
          ]
        }
      ]
    },
    {
      "cell_type": "code",
      "source": [
        "import numpy as np\n",
        "\n",
        "#check for infinity values\n",
        "infVal=X.isin([np.inf, -np.inf]).sum()\n",
        "print(\"Infinity values in each column:\\n\", infVal[infVal>0])\n",
        "\n",
        "# Check for excessively large values (based on what you deem large)\n",
        "large_values = X.apply(lambda x: x > 1e6).sum()\n",
        "print(\"Large values in each column: \\n\", large_values[large_values > 0])"
      ],
      "metadata": {
        "id": "em8IR97pYomg",
        "outputId": "a38a24b1-b591-4216-86d5-c4e6e2078410",
        "colab": {
          "base_uri": "https://localhost:8080/"
        }
      },
      "execution_count": 14,
      "outputs": [
        {
          "output_type": "stream",
          "name": "stdout",
          "text": [
            "Infinity values in each column:\n",
            " Flow Bytes/s      1903\n",
            "Flow Packets/s    1903\n",
            "dtype: int64\n",
            "Large values in each column: \n",
            " Flow Duration                  469030\n",
            "Total Length of Fwd Packets        19\n",
            "Total Length of Bwd Packets      1133\n",
            "Flow Bytes/s                   236863\n",
            "Flow Packets/s                  25202\n",
            "Flow IAT Mean                  346156\n",
            "Flow IAT Std                   419937\n",
            "Flow IAT Max                   456404\n",
            "Flow IAT Min                     9772\n",
            "Fwd IAT Total                  448951\n",
            "Fwd IAT Mean                   370978\n",
            "Fwd IAT Std                    386385\n",
            "Fwd IAT Max                    436099\n",
            "Fwd IAT Min                     37283\n",
            "Bwd IAT Total                  272994\n",
            "Bwd IAT Mean                   225272\n",
            "Bwd IAT Std                    216373\n",
            "Bwd IAT Max                    266293\n",
            "Bwd IAT Min                     37585\n",
            "Fwd Header Length                  34\n",
            "Bwd Header Length                  36\n",
            "Fwd Packets/s                   22230\n",
            "Bwd Packets/s                      81\n",
            "Packet Length Variance         186691\n",
            "Fwd Header Length.1                34\n",
            "Subflow Fwd Bytes                  19\n",
            "Subflow Bwd Bytes                1133\n",
            "Active Mean                     23618\n",
            "Active Std                      19522\n",
            "Active Max                      52588\n",
            "Active Min                      14045\n",
            "Idle Mean                      359100\n",
            "Idle Std                        34109\n",
            "Idle Max                       359100\n",
            "Idle Min                       359100\n",
            "dtype: int64\n"
          ]
        }
      ]
    },
    {
      "cell_type": "code",
      "source": [
        "#To Handle infinity values : Replace infinity values with\n",
        "X.replace([np.inf,-np.inf],np.nan,inplace=True)\n",
        "\n",
        "#To Handle Large values : Capping extremely large values\n",
        "X = X.apply(lambda x: np.where(x > 1e6, 1e6, x))  # Example threshold 1e6\n",
        "\n",
        "# Fill missing values after replacing infinity\n",
        "X.fillna(X.mean(), inplace=True)\n",
        "\n",
        "# Check for any remaining missing values\n",
        "print(X.isnull().sum())\n",
        "\n"
      ],
      "metadata": {
        "id": "UPC0uyvzbUmQ",
        "outputId": "8ba85796-89ac-4941-a1a8-5f7b38677d4a",
        "colab": {
          "base_uri": "https://localhost:8080/"
        }
      },
      "execution_count": 15,
      "outputs": [
        {
          "output_type": "stream",
          "name": "stdout",
          "text": [
            "Destination Port               0\n",
            "Flow Duration                  0\n",
            "Total Fwd Packets              0\n",
            "Total Backward Packets         0\n",
            "Total Length of Fwd Packets    0\n",
            "                              ..\n",
            "Active Min                     0\n",
            "Idle Mean                      0\n",
            "Idle Std                       0\n",
            "Idle Max                       0\n",
            "Idle Min                       0\n",
            "Length: 78, dtype: int64\n"
          ]
        }
      ]
    },
    {
      "cell_type": "code",
      "source": [
        "#selecting best features for the training model out of 78 features\n",
        "#use Random forest algorithm\n",
        "from sklearn.ensemble import RandomForestClassifier\n",
        "import matplotlib.pyplot as plt\n",
        "import numpy as np\n",
        "\n",
        "#Train a model with Random Forest\n",
        "rfModel=RandomForestClassifier(n_estimators=100, random_state=42)\n",
        "rfModel.fit(X,Y)\n",
        "\n",
        "#Get important feature\n",
        "importantFeatures=rfModel.feature_importances_"
      ],
      "metadata": {
        "id": "MNLkofDccgZF"
      },
      "execution_count": 16,
      "outputs": []
    },
    {
      "cell_type": "code",
      "source": [
        "#Creating another Data frame with selected most importand features and their importance factor\n",
        "importantFeatures_df=pd.DataFrame({\n",
        "    'Feature' : X.columns,\n",
        "    'Importance': importantFeatures\n",
        "})\n",
        "\n",
        "#Sort the Dataframe by importance scores in decending order\n",
        "importantFeatures_df = importantFeatures_df.sort_values(by='Importance', ascending=False)\n",
        "\n",
        "# Display the top important features\n",
        "print(importantFeatures_df.head(20))  # Change 10 to the number of features you want to display\n",
        "\n",
        "# Plotting feature importances\n",
        "plt.figure(figsize=(10, 6))  # Adjust the figure size as needed\n",
        "plt.barh(importantFeatures_df['Feature'][:20], importantFeatures_df['Importance'][:20], color='skyblue')  # Change to top 20\n",
        "plt.xlabel('Importance Score')\n",
        "plt.title('Top 20 Important Features')  # Update title to reflect the change\n",
        "plt.gca().invert_yaxis()  # Invert y-axis to have the most important feature on top\n",
        "plt.show()\n"
      ],
      "metadata": {
        "id": "EKeMOBwwiCVs",
        "outputId": "72de7e2a-3149-4cdd-9703-144f89c860c5",
        "colab": {
          "base_uri": "https://localhost:8080/",
          "height": 929
        }
      },
      "execution_count": 17,
      "outputs": [
        {
          "output_type": "stream",
          "name": "stdout",
          "text": [
            "                        Feature  Importance\n",
            "0              Destination Port    0.074944\n",
            "41            Packet Length Std    0.073344\n",
            "54         Avg Bwd Segment Size    0.071691\n",
            "39            Max Packet Length    0.069448\n",
            "10        Bwd Packet Length Max    0.059549\n",
            "13        Bwd Packet Length Std    0.051712\n",
            "52          Average Packet Size    0.040587\n",
            "42       Packet Length Variance    0.038030\n",
            "66       Init_Win_bytes_forward    0.037398\n",
            "55          Fwd Header Length.1    0.025278\n",
            "15               Flow Packets/s    0.023301\n",
            "5   Total Length of Bwd Packets    0.023299\n",
            "65            Subflow Bwd Bytes    0.023125\n",
            "12       Bwd Packet Length Mean    0.023027\n",
            "37                Bwd Packets/s    0.022984\n",
            "40           Packet Length Mean    0.022955\n",
            "34            Fwd Header Length    0.020607\n",
            "3        Total Backward Packets    0.015754\n",
            "35            Bwd Header Length    0.015707\n",
            "36                Fwd Packets/s    0.014810\n"
          ]
        },
        {
          "output_type": "display_data",
          "data": {
            "text/plain": [
              "<Figure size 1000x600 with 1 Axes>"
            ],
            "image/png": "[encoded data removed]"
          },
          "metadata": {}
        }
      ]
    },
    {
      "cell_type": "code",
      "source": [
        "importantFeatures_df.info()"
      ],
      "metadata": {
        "id": "t4z5mPXDtNyM",
        "outputId": "bc9fb2e8-3d99-424a-b553-971d38788892",
        "colab": {
          "base_uri": "https://localhost:8080/"
        }
      },
      "execution_count": 18,
      "outputs": [
        {
          "output_type": "stream",
          "name": "stdout",
          "text": [
            "<class 'pandas.core.frame.DataFrame'>\n",
            "Index: 78 entries, 0 to 57\n",
            "Data columns (total 2 columns):\n",
            " #   Column      Non-Null Count  Dtype  \n",
            "---  ------      --------------  -----  \n",
            " 0   Feature     78 non-null     object \n",
            " 1   Importance  78 non-null     float64\n",
            "dtypes: float64(1), object(1)\n",
            "memory usage: 1.8+ KB\n"
          ]
        }
      ]
    },
    {
      "cell_type": "code",
      "source": [
        "# Assuming 'top_features' contains the names of the 20 important features\n",
        "top_features = importantFeatures_df.nlargest(20, 'Importance')['Feature']\n",
        "\n",
        "# Create a new DataFrame with selected features and the target variable\n",
        "selected_features_df = combined_dataset[top_features.values.tolist() + ['Label']]\n",
        "\n",
        "# Display the new DataFrame to verify\n",
        "print(selected_features_df.head())\n"
      ],
      "metadata": {
        "id": "XQs-d1Zhukbz",
        "outputId": "9524d7cd-5d9a-4281-dbdf-8a9aa719d87c",
        "colab": {
          "base_uri": "https://localhost:8080/"
        }
      },
      "execution_count": 19,
      "outputs": [
        {
          "output_type": "stream",
          "name": "stdout",
          "text": [
            "   Destination Port  Packet Length Std  Avg Bwd Segment Size  \\\n",
            "0                80           0.000000              6.000000   \n",
            "1               389          56.529599             65.200000   \n",
            "2                88         671.751541            525.000000   \n",
            "3               389         704.654082            555.000000   \n",
            "4                88         704.585067            525.333333   \n",
            "\n",
            "   Max Packet Length  Bwd Packet Length Max  Bwd Packet Length Std  \\\n",
            "0                  6                      6               0.000000   \n",
            "1                163                    163              89.278777   \n",
            "2               1575                   1575             813.326503   \n",
            "3               3069                   3069             977.480342   \n",
            "4               1576                   1576             813.842901   \n",
            "\n",
            "   Average Packet Size  Packet Length Variance  Init_Win_bytes_forward  \\\n",
            "0             9.000000                0.000000                     255   \n",
            "1            31.125000             3195.595588                   29200   \n",
            "2           393.750000           451250.132400                   29200   \n",
            "3           348.689655           496537.374700                   29200   \n",
            "4           420.133333           496440.116700                   29200   \n",
            "\n",
            "   Fwd Header Length.1  ...  Total Length of Bwd Packets  Subflow Bwd Bytes  \\\n",
            "0                   20  ...                            6                  6   \n",
            "1                  368  ...                          326                326   \n",
            "2                  336  ...                         3150               3150   \n",
            "3                  560  ...                         6660               6660   \n",
            "4                  304  ...                         3152               3152   \n",
            "\n",
            "   Bwd Packet Length Mean  Bwd Packets/s  Packet Length Mean  \\\n",
            "0                6.000000      26.104208            6.000000   \n",
            "1               65.200000   10438.413360           29.294118   \n",
            "2              525.000000    5479.452055          370.588235   \n",
            "3              555.000000     789.162173          337.066667   \n",
            "4              525.333333    5494.505495          393.875000   \n",
            "\n",
            "   Fwd Header Length  Total Backward Packets  Bwd Header Length  \\\n",
            "0                 20                       1                 20   \n",
            "1                368                       5                176   \n",
            "2                336                       6                208   \n",
            "3                560                      12                388   \n",
            "4                304                       6                208   \n",
            "\n",
            "   Fwd Packets/s   Label  \n",
            "0      26.104208  BENIGN  \n",
            "1   22964.509390  BENIGN  \n",
            "2    9132.420091  BENIGN  \n",
            "3    1117.979745  BENIGN  \n",
            "4    8241.758242  BENIGN  \n",
            "\n",
            "[5 rows x 21 columns]\n"
          ]
        }
      ]
    },
    {
      "cell_type": "code",
      "source": [
        "selected_features_df.info()"
      ],
      "metadata": {
        "id": "3X4CXNgZ0OII",
        "outputId": "60ffd2c2-6551-4028-cd9b-df138acae924",
        "colab": {
          "base_uri": "https://localhost:8080/"
        }
      },
      "execution_count": 20,
      "outputs": [
        {
          "output_type": "stream",
          "name": "stdout",
          "text": [
            "<class 'pandas.core.frame.DataFrame'>\n",
            "RangeIndex: 1597580 entries, 0 to 1597579\n",
            "Data columns (total 21 columns):\n",
            " #   Column                       Non-Null Count    Dtype  \n",
            "---  ------                       --------------    -----  \n",
            " 0   Destination Port             1597580 non-null  int64  \n",
            " 1   Packet Length Std            1597580 non-null  float64\n",
            " 2   Avg Bwd Segment Size         1597580 non-null  float64\n",
            " 3   Max Packet Length            1597580 non-null  int64  \n",
            " 4   Bwd Packet Length Max        1597580 non-null  int64  \n",
            " 5   Bwd Packet Length Std        1597580 non-null  float64\n",
            " 6   Average Packet Size          1597580 non-null  float64\n",
            " 7   Packet Length Variance       1597580 non-null  float64\n",
            " 8   Init_Win_bytes_forward       1597580 non-null  int64  \n",
            " 9   Fwd Header Length.1          1597580 non-null  int64  \n",
            " 10  Flow Packets/s               1597580 non-null  float64\n",
            " 11  Total Length of Bwd Packets  1597580 non-null  int64  \n",
            " 12  Subflow Bwd Bytes            1597580 non-null  int64  \n",
            " 13  Bwd Packet Length Mean       1597580 non-null  float64\n",
            " 14  Bwd Packets/s                1597580 non-null  float64\n",
            " 15  Packet Length Mean           1597580 non-null  float64\n",
            " 16  Fwd Header Length            1597580 non-null  int64  \n",
            " 17  Total Backward Packets       1597580 non-null  int64  \n",
            " 18  Bwd Header Length            1597580 non-null  int64  \n",
            " 19  Fwd Packets/s                1597580 non-null  float64\n",
            " 20  Label                        1597580 non-null  object \n",
            "dtypes: float64(10), int64(10), object(1)\n",
            "memory usage: 256.0+ MB\n"
          ]
        }
      ]
    },
    {
      "cell_type": "code",
      "source": [
        "from sklearn.preprocessing import LabelEncoder\n",
        "\n",
        "#initiate the lable encoder\n",
        "labelEncoder=LabelEncoder()\n",
        "\n",
        "#fit the encoder to the lable data\n",
        "y_encode=labelEncoder.fit_transform(Y)\n",
        "\n",
        "#check the data type\n",
        "y_encode.dtype"
      ],
      "metadata": {
        "id": "AB5RqUEJ1bSk",
        "outputId": "af53a145-f402-42e6-d131-4776b2d6ba36",
        "colab": {
          "base_uri": "https://localhost:8080/"
        }
      },
      "execution_count": 21,
      "outputs": [
        {
          "output_type": "execute_result",
          "data": {
            "text/plain": [
              "dtype('int64')"
            ]
          },
          "metadata": {},
          "execution_count": 21
        }
      ]
    },
    {
      "cell_type": "code",
      "source": [
        "from sklearn.model_selection import train_test_split\n",
        "\n",
        "\n",
        "#Use features from selected_features_df dataframe and y_encode\n",
        "x_train,x_test,y_train,y_test=train_test_split(selected_features_df,y_encode,test_size=0.2,random_state=42,stratify=y_encode)\n",
        "\n",
        "#drop label from x_train and x_test\n",
        "trainDataset = x_train.drop(columns=['Label'])\n",
        "testDataset=x_test.drop(columns=['Label'])\n",
        "#check the shapes of the resulting datsets\n",
        "print(\"Traning features set shape:\",trainDataset.shape)\n",
        "print(\"Test features set shape:\",testDataset.shape)\n",
        "print(\"Traning Lable set shape:\",y_train.shape)\n",
        "print(\"Test Lable set shape:\",y_test.shape)"
      ],
      "metadata": {
        "id": "gkKo5E945x3N",
        "outputId": "2ff818c0-90d2-4ae2-a276-b48267b378dd",
        "colab": {
          "base_uri": "https://localhost:8080/"
        }
      },
      "execution_count": 22,
      "outputs": [
        {
          "output_type": "stream",
          "name": "stdout",
          "text": [
            "Traning features set shape: (1278064, 20)\n",
            "Test features set shape: (319516, 20)\n",
            "Traning Lable set shape: (1278064,)\n",
            "Test Lable set shape: (319516,)\n"
          ]
        }
      ]
    },
    {
      "cell_type": "code",
      "source": [
        "#print the data type of trainDataset\n",
        "print(type(trainDataset))\n",
        "\n",
        "#print the unique values of traing Label\n",
        "unique_values = pd.Series(y_train).unique()\n",
        "print(unique_values)\n",
        "\n",
        "#print columns of trainDataset\n",
        "print(trainDataset.head())\n",
        "\n",
        "#print columns of testDataset\n",
        "print(testDataset.head())\n",
        "\n"
      ],
      "metadata": {
        "id": "9NRD5iwu2_UY",
        "outputId": "44b0a28e-29c5-46c6-8000-b996bc8eb992",
        "colab": {
          "base_uri": "https://localhost:8080/"
        }
      },
      "execution_count": 23,
      "outputs": [
        {
          "output_type": "stream",
          "name": "stdout",
          "text": [
            "<class 'pandas.core.frame.DataFrame'>\n",
            "[ 0  2  4 11  1  8  5  3  9  7  6 10]\n",
            "         Destination Port  Packet Length Std  Avg Bwd Segment Size  \\\n",
            "1213637                53          38.060103            108.000000   \n",
            "821270                139          98.526858            106.266667   \n",
            "1545423             57303           0.000000              6.000000   \n",
            "1431910             53117           0.000000              0.000000   \n",
            "365829                 53          18.475209             72.000000   \n",
            "\n",
            "         Max Packet Length  Bwd Packet Length Max  Bwd Packet Length Std  \\\n",
            "1213637                108                    108               0.000000   \n",
            "821270                 440                    440             130.703912   \n",
            "1545423                  6                      6               0.000000   \n",
            "1431910                  0                      0               0.000000   \n",
            "365829                  72                     72               0.000000   \n",
            "\n",
            "         Average Packet Size  Packet Length Variance  Init_Win_bytes_forward  \\\n",
            "1213637            61.000000             1448.571429                      -1   \n",
            "821270             71.848101             9707.541772                   65535   \n",
            "1545423             9.000000                0.000000                      29   \n",
            "1431910             0.000000                0.000000                    4171   \n",
            "365829             76.000000              341.333333                      -1   \n",
            "\n",
            "         Fwd Header Length.1  Flow Packets/s  Total Length of Bwd Packets  \\\n",
            "1213637                  128       85.860248                          216   \n",
            "821270                  1592     1243.037417                         3188   \n",
            "1545423                   20    15748.031500                            6   \n",
            "1431910                   64   666666.666700                            0   \n",
            "365829                    20       64.808814                           72   \n",
            "\n",
            "         Subflow Bwd Bytes  Bwd Packet Length Mean  Bwd Packets/s  \\\n",
            "1213637                216              108.000000      28.620083   \n",
            "821270                3188              106.266667     472.039525   \n",
            "1545423                  6                6.000000    7874.015748   \n",
            "1431910                  0                0.000000       0.000000   \n",
            "365829                  72               72.000000      32.404407   \n",
            "\n",
            "         Packet Length Mean  Fwd Header Length  Total Backward Packets  \\\n",
            "1213637           52.285714                128                       2   \n",
            "821270            70.950000               1592                      30   \n",
            "1545423            6.000000                 20                       1   \n",
            "1431910            0.000000                 64                       0   \n",
            "365829            50.666667                 20                       1   \n",
            "\n",
            "         Bwd Header Length  Fwd Packets/s  \n",
            "1213637                 64      57.240165  \n",
            "821270                 976     770.997892  \n",
            "1545423                 20    7874.015748  \n",
            "1431910                  0  666666.666700  \n",
            "365829                  20      32.404407  \n",
            "         Destination Port  Packet Length Std  Avg Bwd Segment Size  \\\n",
            "1103264              8080           0.000000              0.000000   \n",
            "335749                 53          46.866833            125.500000   \n",
            "1490758               445          94.366943            126.909091   \n",
            "1175103               123           0.000000             48.000000   \n",
            "1475295                53          32.908965            118.000000   \n",
            "\n",
            "         Max Packet Length  Bwd Packet Length Max  Bwd Packet Length Std  \\\n",
            "1103264                  0                      0               0.000000   \n",
            "335749                 143                    143              24.748737   \n",
            "1490758                414                    414             111.660586   \n",
            "1175103                 48                     48               0.000000   \n",
            "1475295                118                    118               0.000000   \n",
            "\n",
            "         Average Packet Size  Packet Length Variance  Init_Win_bytes_forward  \\\n",
            "1103264             0.000000                    0.00                     237   \n",
            "335749             95.000000                 2196.50                      -1   \n",
            "1490758           110.530612                 8905.12                   29200   \n",
            "1175103            60.000000                    0.00                      -1   \n",
            "1475295           120.000000                 1083.00                      -1   \n",
            "\n",
            "         Fwd Header Length.1  Flow Packets/s  Total Length of Bwd Packets  \\\n",
            "1103264                   32       36.144143                            0   \n",
            "335749                    52        0.035953                          251   \n",
            "1490758                  880    13239.664960                         2792   \n",
            "1175103                   64        0.060573                           96   \n",
            "1475295                   40       64.848740                          118   \n",
            "\n",
            "         Subflow Bwd Bytes  Bwd Packet Length Mean  Bwd Packets/s  \\\n",
            "1103264                  0                0.000000      18.072071   \n",
            "335749                 251              125.500000       0.017976   \n",
            "1490758               2792              126.909091    5944.339368   \n",
            "1175103                 96               48.000000       0.030286   \n",
            "1475295                118              118.000000      32.424370   \n",
            "\n",
            "         Packet Length Mean  Fwd Header Length  Total Backward Packets  \\\n",
            "1103264                0.00                 32                       1   \n",
            "335749                76.00                 52                       2   \n",
            "1490758              108.32                880                      22   \n",
            "1175103               48.00                 64                       2   \n",
            "1475295               80.00                 40                       1   \n",
            "\n",
            "         Bwd Header Length  Fwd Packets/s  \n",
            "1103264                 32      18.072071  \n",
            "335749                  52       0.017976  \n",
            "1490758                720    7295.325588  \n",
            "1175103                 52       0.030286  \n",
            "1475295                 32      32.424370  \n"
          ]
        }
      ]
    },
    {
      "cell_type": "code",
      "source": [
        "#check the class distribution | use the traning lable set\n",
        "unique, counts=np.unique(y_train,return_counts=True)\n",
        "class_distribution_training=dict(zip(unique,counts))#represent the different classes in the dataset as a dictionary\n",
        "print(class_distribution_training)\n",
        "\n",
        "\n",
        "#plot the class distribution\n",
        "plt.figure(figsize=(8,4))\n",
        "plt.bar(class_distribution_training.keys(),class_distribution_training.values(),color=\"blue\")\n",
        "plt.title('Training Class Distribution')\n",
        "plt.xlabel('Class')\n",
        "plt.ylabel('Frequency')\n",
        "plt.xticks(rotation=0)\n",
        "plt.show()"
      ],
      "metadata": {
        "id": "Vb11gKMTjq8N",
        "outputId": "fb8633bc-5191-460c-efcc-0f305154afd2",
        "colab": {
          "base_uri": "https://localhost:8080/",
          "height": 427
        }
      },
      "execution_count": 24,
      "outputs": [
        {
          "output_type": "stream",
          "name": "stdout",
          "text": [
            "{0: 1063086, 1: 8234, 2: 184858, 3: 4399, 4: 4637, 5: 6350, 6: 9, 7: 29, 8: 4717, 9: 1206, 10: 17, 11: 522}\n"
          ]
        },
        {
          "output_type": "display_data",
          "data": {
            "text/plain": [
              "<Figure size 800x400 with 1 Axes>"
            ],
            "image/png": "[encoded data removed]"
          },
          "metadata": {}
        }
      ]
    },
    {
      "cell_type": "code",
      "source": [
        "print(\" --- Data processing and cleaning again - before appying SMOTE --- \")\n",
        "# Check for extremely large values\n",
        "#print(trainDataset.describe())\n",
        "\n",
        "#Replace inf values with Nan in traingDataset\n",
        "trainDataset.replace([np.inf,-np.inf],np.nan, inplace=True)\n",
        "#Check if any NaN values are present\n",
        "print(trainDataset.isnull().sum())\n",
        "\n",
        "#Replace inf values with Nan in testDataset\n",
        "testDataset.replace([np.inf,-np.inf],np.nan, inplace=True)\n",
        "#Check if any NaN values are present\n",
        "print(testDataset.isnull().sum())\n",
        "\n"
      ],
      "metadata": {
        "id": "ZaQaxZWQRI44",
        "outputId": "15b1d004-cd90-4b7b-e50e-c7d575c8a915",
        "colab": {
          "base_uri": "https://localhost:8080/"
        }
      },
      "execution_count": 25,
      "outputs": [
        {
          "output_type": "stream",
          "name": "stdout",
          "text": [
            " --- Data processing and cleaning again - before appying SMOTE --- \n",
            "Destination Port                  0\n",
            "Packet Length Std                 0\n",
            "Avg Bwd Segment Size              0\n",
            "Max Packet Length                 0\n",
            "Bwd Packet Length Max             0\n",
            "Bwd Packet Length Std             0\n",
            "Average Packet Size               0\n",
            "Packet Length Variance            0\n",
            "Init_Win_bytes_forward            0\n",
            "Fwd Header Length.1               0\n",
            "Flow Packets/s                 1497\n",
            "Total Length of Bwd Packets       0\n",
            "Subflow Bwd Bytes                 0\n",
            "Bwd Packet Length Mean            0\n",
            "Bwd Packets/s                     0\n",
            "Packet Length Mean                0\n",
            "Fwd Header Length                 0\n",
            "Total Backward Packets            0\n",
            "Bwd Header Length                 0\n",
            "Fwd Packets/s                     0\n",
            "dtype: int64\n",
            "Destination Port                 0\n",
            "Packet Length Std                0\n",
            "Avg Bwd Segment Size             0\n",
            "Max Packet Length                0\n",
            "Bwd Packet Length Max            0\n",
            "Bwd Packet Length Std            0\n",
            "Average Packet Size              0\n",
            "Packet Length Variance           0\n",
            "Init_Win_bytes_forward           0\n",
            "Fwd Header Length.1              0\n",
            "Flow Packets/s                 406\n",
            "Total Length of Bwd Packets      0\n",
            "Subflow Bwd Bytes                0\n",
            "Bwd Packet Length Mean           0\n",
            "Bwd Packets/s                    0\n",
            "Packet Length Mean               0\n",
            "Fwd Header Length                0\n",
            "Total Backward Packets           0\n",
            "Bwd Header Length                0\n",
            "Fwd Packets/s                    0\n",
            "dtype: int64\n"
          ]
        }
      ]
    },
    {
      "cell_type": "code",
      "source": [
        "#Still have missing values in Flow Packets/s                 406 in testDataset\n",
        "#Fill NaN values with the median of the 'Flow Packets/s' column\n",
        "testDataset['Flow Packets/s']=testDataset['Flow Packets/s'].fillna(testDataset['Flow Packets/s'].median())\n",
        "print(testDataset['Flow Packets/s'].isnull().sum())\n",
        "\n",
        "#Still have missing values in Flow Packets/s               1497   in trainDataset\n",
        "#Fill NaN values with the median of the 'Flow Packets/s' column\n",
        "trainDataset['Flow Packets/s']=trainDataset['Flow Packets/s'].fillna(trainDataset['Flow Packets/s'].median())\n",
        "print(trainDataset['Flow Packets/s'].isnull().sum())"
      ],
      "metadata": {
        "id": "iLRaqwgmUTB5",
        "outputId": "0e9bec7d-c8c5-4454-829b-c978cf5d6439",
        "colab": {
          "base_uri": "https://localhost:8080/"
        }
      },
      "execution_count": 26,
      "outputs": [
        {
          "output_type": "stream",
          "name": "stdout",
          "text": [
            "0\n",
            "0\n"
          ]
        }
      ]
    },
    {
      "cell_type": "code",
      "source": [
        "#use SMOTE for handle class imbalance\n",
        "from imblearn.over_sampling import SMOTE\n",
        "\n",
        "#Apply SMOTE to training features and traing lables\n",
        "#Create an instance of SMOTE\n",
        "smote=SMOTE(random_state=42)\n",
        "\n",
        "#Fit SMOTE to thr training data\n",
        "x_resampled, y_resampled = smote.fit_resample(trainDataset, y_train)\n",
        "\n",
        "#check the new class distribution\n",
        "print(\"Original traning labled distribution:\")\n",
        "#convert Numpy array into Pandas Series\n",
        "print(pd.Series(y_train).value_counts())\n",
        "print(\"\\n Resampled training lables distribution:\")\n",
        "print(pd.Series(y_resampled).value_counts())\n"
      ],
      "metadata": {
        "id": "FGuyh78AtOXV",
        "outputId": "38279504-5cd9-4e16-87ea-a47d15d73a4e",
        "colab": {
          "base_uri": "https://localhost:8080/"
        }
      },
      "execution_count": 27,
      "outputs": [
        {
          "output_type": "stream",
          "name": "stdout",
          "text": [
            "Original traning labled distribution:\n",
            "0     1063086\n",
            "2      184858\n",
            "1        8234\n",
            "5        6350\n",
            "8        4717\n",
            "4        4637\n",
            "3        4399\n",
            "9        1206\n",
            "11        522\n",
            "7          29\n",
            "10         17\n",
            "6           9\n",
            "Name: count, dtype: int64\n",
            "\n",
            " Resampled training lables distribution:\n",
            "0     1063086\n",
            "2     1063086\n",
            "4     1063086\n",
            "11    1063086\n",
            "1     1063086\n",
            "8     1063086\n",
            "5     1063086\n",
            "3     1063086\n",
            "9     1063086\n",
            "7     1063086\n",
            "6     1063086\n",
            "10    1063086\n",
            "Name: count, dtype: int64\n"
          ]
        }
      ]
    },
    {
      "cell_type": "code",
      "source": [
        "#get the class numbers and attack name by inverse the label ancoding\n",
        "classNum=range(len(labelEncoder.classes_))\n",
        "#get orginal class names\n",
        "attackNames=labelEncoder.inverse_transform(classNum)\n",
        "#newDataFrame to display class number with corrsponding attack name\n",
        "class_mapping=pd.DataFrame({'Class number ':classNum,'Attack name ':attackNames})\n",
        "print(class_mapping)\n",
        "\n",
        "#plot the out put of oversampling with SMOTE\n",
        "original_counts=pd.Series(y_train).value_counts().sort_index()\n",
        "resampled_counts=pd.Series(y_resampled).value_counts().sort_index()\n",
        "\n",
        "#newDataFrame to display class number with corrsponding attack name\n",
        "class_mapping=pd.DataFrame({'Class number ':classNum,'Attack name ':attackNames,'Original count ':original_counts,'Re-sampled counts ':resampled_counts})\n",
        "print(class_mapping)\n",
        "\n",
        "#create x-axis values for classes\n",
        "classTypes=np.arange(len(original_counts))\n",
        "classNames=original_counts.index\n",
        "\n",
        "#scatter plot for original values\n",
        "plt.scatter(classNames,original_counts,color='blue',label='Original counts',marker='*')\n",
        "\n",
        "#Scatter plot for resampled values\n",
        "plt.scatter(classNames,resampled_counts,color='red',label='Resampled counts',marker='X')\n",
        "\n",
        "#Set x-tixks to class lables\n",
        "plt.xticks(classTypes,original_counts.index)\n",
        "\n",
        "#Add labled and titles\n",
        "plt.xlabel('Class Lables')\n",
        "plt.ylabel('count')\n",
        "plt.title('Class Distribution before and After SMOTE')\n",
        "plt.legend()\n",
        "plt.grid()\n",
        "\n",
        "plt.show()"
      ],
      "metadata": {
        "id": "SY4V-AFThwzm",
        "outputId": "e753cffd-8413-4a91-c78b-bcf1938f4aa5",
        "colab": {
          "base_uri": "https://localhost:8080/",
          "height": 1000
        }
      },
      "execution_count": 28,
      "outputs": [
        {
          "output_type": "stream",
          "name": "stdout",
          "text": [
            "    Class number                 Attack name \n",
            "0               0                      BENIGN\n",
            "1               1               DoS GoldenEye\n",
            "2               2                    DoS Hulk\n",
            "3               3            DoS Slowhttptest\n",
            "4               4               DoS slowloris\n",
            "5               5                 FTP-Patator\n",
            "6               6                  Heartbleed\n",
            "7               7                Infiltration\n",
            "8               8                 SSH-Patator\n",
            "9               9    Web Attack � Brute Force\n",
            "10             10  Web Attack � Sql Injection\n",
            "11             11            Web Attack � XSS\n",
            "    Class number                 Attack name   Original count   \\\n",
            "0               0                      BENIGN          1063086   \n",
            "1               1               DoS GoldenEye             8234   \n",
            "2               2                    DoS Hulk           184858   \n",
            "3               3            DoS Slowhttptest             4399   \n",
            "4               4               DoS slowloris             4637   \n",
            "5               5                 FTP-Patator             6350   \n",
            "6               6                  Heartbleed                9   \n",
            "7               7                Infiltration               29   \n",
            "8               8                 SSH-Patator             4717   \n",
            "9               9    Web Attack � Brute Force             1206   \n",
            "10             10  Web Attack � Sql Injection               17   \n",
            "11             11            Web Attack � XSS              522   \n",
            "\n",
            "    Re-sampled counts   \n",
            "0              1063086  \n",
            "1              1063086  \n",
            "2              1063086  \n",
            "3              1063086  \n",
            "4              1063086  \n",
            "5              1063086  \n",
            "6              1063086  \n",
            "7              1063086  \n",
            "8              1063086  \n",
            "9              1063086  \n",
            "10             1063086  \n",
            "11             1063086  \n"
          ]
        },
        {
          "output_type": "display_data",
          "data": {
            "text/plain": [
              "<Figure size 640x480 with 1 Axes>"
            ],
            "image/png": "[encoded data removed]"
          },
          "metadata": {}
        }
      ]
    },
    {
      "cell_type": "code",
      "source": [
        "model=RandomForestClassifier(random_state=42)\n",
        "model.fit(x_resampled,y_resampled)"
      ],
      "metadata": {
        "id": "9l_1wUTNqnES",
        "outputId": "1c674cbb-ccc8-4e4a-e523-d0a98c87cc16",
        "colab": {
          "base_uri": "https://localhost:8080/",
          "height": 80
        }
      },
      "execution_count": 29,
      "outputs": [
        {
          "output_type": "execute_result",
          "data": {
            "text/plain": [
              "RandomForestClassifier(random_state=42)"
            ],
            "text/html": [
              "<style>#sk-container-id-1 {\n",
              "  /* Definition of color scheme common for light and dark mode */\n",
              "  --sklearn-color-text: black;\n",
              "  --sklearn-color-line: gray;\n",
              "  /* Definition of color scheme for unfitted estimators */\n",
              "  --sklearn-color-unfitted-level-0: #fff5e6;\n",
              "  --sklearn-color-unfitted-level-1: #f6e4d2;\n",
              "  --sklearn-color-unfitted-level-2: #ffe0b3;\n",
              "  --sklearn-color-unfitted-level-3: chocolate;\n",
              "  /* Definition of color scheme for fitted estimators */\n",
              "  --sklearn-color-fitted-level-0: #f0f8ff;\n",
              "  --sklearn-color-fitted-level-1: #d4ebff;\n",
              "  --sklearn-color-fitted-level-2: #b3dbfd;\n",
              "  --sklearn-color-fitted-level-3: cornflowerblue;\n",
              "\n",
              "  /* Specific color for light theme */\n",
              "  --sklearn-color-text-on-default-background: var(--sg-text-color, var(--theme-code-foreground, var(--jp-content-font-color1, black)));\n",
              "  --sklearn-color-background: var(--sg-background-color, var(--theme-background, var(--jp-layout-color0, white)));\n",
              "  --sklearn-color-border-box: var(--sg-text-color, var(--theme-code-foreground, var(--jp-content-font-color1, black)));\n",
              "  --sklearn-color-icon: #696969;\n",
              "\n",
              "  @media (prefers-color-scheme: dark) {\n",
              "    /* Redefinition of color scheme for dark theme */\n",
              "    --sklearn-color-text-on-default-background: var(--sg-text-color, var(--theme-code-foreground, var(--jp-content-font-color1, white)));\n",
              "    --sklearn-color-background: var(--sg-background-color, var(--theme-background, var(--jp-layout-color0, #111)));\n",
              "    --sklearn-color-border-box: var(--sg-text-color, var(--theme-code-foreground, var(--jp-content-font-color1, white)));\n",
              "    --sklearn-color-icon: #878787;\n",
              "  }\n",
              "}\n",
              "\n",
              "#sk-container-id-1 {\n",
              "  color: var(--sklearn-color-text);\n",
              "}\n",
              "\n",
              "#sk-container-id-1 pre {\n",
              "  padding: 0;\n",
              "}\n",
              "\n",
              "#sk-container-id-1 input.sk-hidden--visually {\n",
              "  border: 0;\n",
              "  clip: rect(1px 1px 1px 1px);\n",
              "  clip: rect(1px, 1px, 1px, 1px);\n",
              "  height: 1px;\n",
              "  margin: -1px;\n",
              "  overflow: hidden;\n",
              "  padding: 0;\n",
              "  position: absolute;\n",
              "  width: 1px;\n",
              "}\n",
              "\n",
              "#sk-container-id-1 div.sk-dashed-wrapped {\n",
              "  border: 1px dashed var(--sklearn-color-line);\n",
              "  margin: 0 0.4em 0.5em 0.4em;\n",
              "  box-sizing: border-box;\n",
              "  padding-bottom: 0.4em;\n",
              "  background-color: var(--sklearn-color-background);\n",
              "}\n",
              "\n",
              "#sk-container-id-1 div.sk-container {\n",
              "  /* jupyter's `normalize.less` sets `[hidden] { display: none; }`\n",
              "     but bootstrap.min.css set `[hidden] { display: none !important; }`\n",
              "     so we also need the `!important` here to be able to override the\n",
              "     default hidden behavior on the sphinx rendered scikit-learn.org.\n",
              "     See: https://github.com/scikit-learn/scikit-learn/issues/21755 */\n",
              "  display: inline-block !important;\n",
              "  position: relative;\n",
              "}\n",
              "\n",
              "#sk-container-id-1 div.sk-text-repr-fallback {\n",
              "  display: none;\n",
              "}\n",
              "\n",
              "div.sk-parallel-item,\n",
              "div.sk-serial,\n",
              "div.sk-item {\n",
              "  /* draw centered vertical line to link estimators */\n",
              "  background-image: linear-gradient(var(--sklearn-color-text-on-default-background), var(--sklearn-color-text-on-default-background));\n",
              "  background-size: 2px 100%;\n",
              "  background-repeat: no-repeat;\n",
              "  background-position: center center;\n",
              "}\n",
              "\n",
              "/* Parallel-specific style estimator block */\n",
              "\n",
              "#sk-container-id-1 div.sk-parallel-item::after {\n",
              "  content: \"\";\n",
              "  width: 100%;\n",
              "  border-bottom: 2px solid var(--sklearn-color-text-on-default-background);\n",
              "  flex-grow: 1;\n",
              "}\n",
              "\n",
              "#sk-container-id-1 div.sk-parallel {\n",
              "  display: flex;\n",
              "  align-items: stretch;\n",
              "  justify-content: center;\n",
              "  background-color: var(--sklearn-color-background);\n",
              "  position: relative;\n",
              "}\n",
              "\n",
              "#sk-container-id-1 div.sk-parallel-item {\n",
              "  display: flex;\n",
              "  flex-direction: column;\n",
              "}\n",
              "\n",
              "#sk-container-id-1 div.sk-parallel-item:first-child::after {\n",
              "  align-self: flex-end;\n",
              "  width: 50%;\n",
              "}\n",
              "\n",
              "#sk-container-id-1 div.sk-parallel-item:last-child::after {\n",
              "  align-self: flex-start;\n",
              "  width: 50%;\n",
              "}\n",
              "\n",
              "#sk-container-id-1 div.sk-parallel-item:only-child::after {\n",
              "  width: 0;\n",
              "}\n",
              "\n",
              "/* Serial-specific style estimator block */\n",
              "\n",
              "#sk-container-id-1 div.sk-serial {\n",
              "  display: flex;\n",
              "  flex-direction: column;\n",
              "  align-items: center;\n",
              "  background-color: var(--sklearn-color-background);\n",
              "  padding-right: 1em;\n",
              "  padding-left: 1em;\n",
              "}\n",
              "\n",
              "\n",
              "/* Toggleable style: style used for estimator/Pipeline/ColumnTransformer box that is\n",
              "clickable and can be expanded/collapsed.\n",
              "- Pipeline and ColumnTransformer use this feature and define the default style\n",
              "- Estimators will overwrite some part of the style using the `sk-estimator` class\n",
              "*/\n",
              "\n",
              "/* Pipeline and ColumnTransformer style (default) */\n",
              "\n",
              "#sk-container-id-1 div.sk-toggleable {\n",
              "  /* Default theme specific background. It is overwritten whether we have a\n",
              "  specific estimator or a Pipeline/ColumnTransformer */\n",
              "  background-color: var(--sklearn-color-background);\n",
              "}\n",
              "\n",
              "/* Toggleable label */\n",
              "#sk-container-id-1 label.sk-toggleable__label {\n",
              "  cursor: pointer;\n",
              "  display: block;\n",
              "  width: 100%;\n",
              "  margin-bottom: 0;\n",
              "  padding: 0.5em;\n",
              "  box-sizing: border-box;\n",
              "  text-align: center;\n",
              "}\n",
              "\n",
              "#sk-container-id-1 label.sk-toggleable__label-arrow:before {\n",
              "  /* Arrow on the left of the label */\n",
              "  content: \"▸\";\n",
              "  float: left;\n",
              "  margin-right: 0.25em;\n",
              "  color: var(--sklearn-color-icon);\n",
              "}\n",
              "\n",
              "#sk-container-id-1 label.sk-toggleable__label-arrow:hover:before {\n",
              "  color: var(--sklearn-color-text);\n",
              "}\n",
              "\n",
              "/* Toggleable content - dropdown */\n",
              "\n",
              "#sk-container-id-1 div.sk-toggleable__content {\n",
              "  max-height: 0;\n",
              "  max-width: 0;\n",
              "  overflow: hidden;\n",
              "  text-align: left;\n",
              "  /* unfitted */\n",
              "  background-color: var(--sklearn-color-unfitted-level-0);\n",
              "}\n",
              "\n",
              "#sk-container-id-1 div.sk-toggleable__content.fitted {\n",
              "  /* fitted */\n",
              "  background-color: var(--sklearn-color-fitted-level-0);\n",
              "}\n",
              "\n",
              "#sk-container-id-1 div.sk-toggleable__content pre {\n",
              "  margin: 0.2em;\n",
              "  border-radius: 0.25em;\n",
              "  color: var(--sklearn-color-text);\n",
              "  /* unfitted */\n",
              "  background-color: var(--sklearn-color-unfitted-level-0);\n",
              "}\n",
              "\n",
              "#sk-container-id-1 div.sk-toggleable__content.fitted pre {\n",
              "  /* unfitted */\n",
              "  background-color: var(--sklearn-color-fitted-level-0);\n",
              "}\n",
              "\n",
              "#sk-container-id-1 input.sk-toggleable__control:checked~div.sk-toggleable__content {\n",
              "  /* Expand drop-down */\n",
              "  max-height: 200px;\n",
              "  max-width: 100%;\n",
              "  overflow: auto;\n",
              "}\n",
              "\n",
              "#sk-container-id-1 input.sk-toggleable__control:checked~label.sk-toggleable__label-arrow:before {\n",
              "  content: \"▾\";\n",
              "}\n",
              "\n",
              "/* Pipeline/ColumnTransformer-specific style */\n",
              "\n",
              "#sk-container-id-1 div.sk-label input.sk-toggleable__control:checked~label.sk-toggleable__label {\n",
              "  color: var(--sklearn-color-text);\n",
              "  background-color: var(--sklearn-color-unfitted-level-2);\n",
              "}\n",
              "\n",
              "#sk-container-id-1 div.sk-label.fitted input.sk-toggleable__control:checked~label.sk-toggleable__label {\n",
              "  background-color: var(--sklearn-color-fitted-level-2);\n",
              "}\n",
              "\n",
              "/* Estimator-specific style */\n",
              "\n",
              "/* Colorize estimator box */\n",
              "#sk-container-id-1 div.sk-estimator input.sk-toggleable__control:checked~label.sk-toggleable__label {\n",
              "  /* unfitted */\n",
              "  background-color: var(--sklearn-color-unfitted-level-2);\n",
              "}\n",
              "\n",
              "#sk-container-id-1 div.sk-estimator.fitted input.sk-toggleable__control:checked~label.sk-toggleable__label {\n",
              "  /* fitted */\n",
              "  background-color: var(--sklearn-color-fitted-level-2);\n",
              "}\n",
              "\n",
              "#sk-container-id-1 div.sk-label label.sk-toggleable__label,\n",
              "#sk-container-id-1 div.sk-label label {\n",
              "  /* The background is the default theme color */\n",
              "  color: var(--sklearn-color-text-on-default-background);\n",
              "}\n",
              "\n",
              "/* On hover, darken the color of the background */\n",
              "#sk-container-id-1 div.sk-label:hover label.sk-toggleable__label {\n",
              "  color: var(--sklearn-color-text);\n",
              "  background-color: var(--sklearn-color-unfitted-level-2);\n",
              "}\n",
              "\n",
              "/* Label box, darken color on hover, fitted */\n",
              "#sk-container-id-1 div.sk-label.fitted:hover label.sk-toggleable__label.fitted {\n",
              "  color: var(--sklearn-color-text);\n",
              "  background-color: var(--sklearn-color-fitted-level-2);\n",
              "}\n",
              "\n",
              "/* Estimator label */\n",
              "\n",
              "#sk-container-id-1 div.sk-label label {\n",
              "  font-family: monospace;\n",
              "  font-weight: bold;\n",
              "  display: inline-block;\n",
              "  line-height: 1.2em;\n",
              "}\n",
              "\n",
              "#sk-container-id-1 div.sk-label-container {\n",
              "  text-align: center;\n",
              "}\n",
              "\n",
              "/* Estimator-specific */\n",
              "#sk-container-id-1 div.sk-estimator {\n",
              "  font-family: monospace;\n",
              "  border: 1px dotted var(--sklearn-color-border-box);\n",
              "  border-radius: 0.25em;\n",
              "  box-sizing: border-box;\n",
              "  margin-bottom: 0.5em;\n",
              "  /* unfitted */\n",
              "  background-color: var(--sklearn-color-unfitted-level-0);\n",
              "}\n",
              "\n",
              "#sk-container-id-1 div.sk-estimator.fitted {\n",
              "  /* fitted */\n",
              "  background-color: var(--sklearn-color-fitted-level-0);\n",
              "}\n",
              "\n",
              "/* on hover */\n",
              "#sk-container-id-1 div.sk-estimator:hover {\n",
              "  /* unfitted */\n",
              "  background-color: var(--sklearn-color-unfitted-level-2);\n",
              "}\n",
              "\n",
              "#sk-container-id-1 div.sk-estimator.fitted:hover {\n",
              "  /* fitted */\n",
              "  background-color: var(--sklearn-color-fitted-level-2);\n",
              "}\n",
              "\n",
              "/* Specification for estimator info (e.g. \"i\" and \"?\") */\n",
              "\n",
              "/* Common style for \"i\" and \"?\" */\n",
              "\n",
              ".sk-estimator-doc-link,\n",
              "a:link.sk-estimator-doc-link,\n",
              "a:visited.sk-estimator-doc-link {\n",
              "  float: right;\n",
              "  font-size: smaller;\n",
              "  line-height: 1em;\n",
              "  font-family: monospace;\n",
              "  background-color: var(--sklearn-color-background);\n",
              "  border-radius: 1em;\n",
              "  height: 1em;\n",
              "  width: 1em;\n",
              "  text-decoration: none !important;\n",
              "  margin-left: 1ex;\n",
              "  /* unfitted */\n",
              "  border: var(--sklearn-color-unfitted-level-1) 1pt solid;\n",
              "  color: var(--sklearn-color-unfitted-level-1);\n",
              "}\n",
              "\n",
              ".sk-estimator-doc-link.fitted,\n",
              "a:link.sk-estimator-doc-link.fitted,\n",
              "a:visited.sk-estimator-doc-link.fitted {\n",
              "  /* fitted */\n",
              "  border: var(--sklearn-color-fitted-level-1) 1pt solid;\n",
              "  color: var(--sklearn-color-fitted-level-1);\n",
              "}\n",
              "\n",
              "/* On hover */\n",
              "div.sk-estimator:hover .sk-estimator-doc-link:hover,\n",
              ".sk-estimator-doc-link:hover,\n",
              "div.sk-label-container:hover .sk-estimator-doc-link:hover,\n",
              ".sk-estimator-doc-link:hover {\n",
              "  /* unfitted */\n",
              "  background-color: var(--sklearn-color-unfitted-level-3);\n",
              "  color: var(--sklearn-color-background);\n",
              "  text-decoration: none;\n",
              "}\n",
              "\n",
              "div.sk-estimator.fitted:hover .sk-estimator-doc-link.fitted:hover,\n",
              ".sk-estimator-doc-link.fitted:hover,\n",
              "div.sk-label-container:hover .sk-estimator-doc-link.fitted:hover,\n",
              ".sk-estimator-doc-link.fitted:hover {\n",
              "  /* fitted */\n",
              "  background-color: var(--sklearn-color-fitted-level-3);\n",
              "  color: var(--sklearn-color-background);\n",
              "  text-decoration: none;\n",
              "}\n",
              "\n",
              "/* Span, style for the box shown on hovering the info icon */\n",
              ".sk-estimator-doc-link span {\n",
              "  display: none;\n",
              "  z-index: 9999;\n",
              "  position: relative;\n",
              "  font-weight: normal;\n",
              "  right: .2ex;\n",
              "  padding: .5ex;\n",
              "  margin: .5ex;\n",
              "  width: min-content;\n",
              "  min-width: 20ex;\n",
              "  max-width: 50ex;\n",
              "  color: var(--sklearn-color-text);\n",
              "  box-shadow: 2pt 2pt 4pt #999;\n",
              "  /* unfitted */\n",
              "  background: var(--sklearn-color-unfitted-level-0);\n",
              "  border: .5pt solid var(--sklearn-color-unfitted-level-3);\n",
              "}\n",
              "\n",
              ".sk-estimator-doc-link.fitted span {\n",
              "  /* fitted */\n",
              "  background: var(--sklearn-color-fitted-level-0);\n",
              "  border: var(--sklearn-color-fitted-level-3);\n",
              "}\n",
              "\n",
              ".sk-estimator-doc-link:hover span {\n",
              "  display: block;\n",
              "}\n",
              "\n",
              "/* \"?\"-specific style due to the `<a>` HTML tag */\n",
              "\n",
              "#sk-container-id-1 a.estimator_doc_link {\n",
              "  float: right;\n",
              "  font-size: 1rem;\n",
              "  line-height: 1em;\n",
              "  font-family: monospace;\n",
              "  background-color: var(--sklearn-color-background);\n",
              "  border-radius: 1rem;\n",
              "  height: 1rem;\n",
              "  width: 1rem;\n",
              "  text-decoration: none;\n",
              "  /* unfitted */\n",
              "  color: var(--sklearn-color-unfitted-level-1);\n",
              "  border: var(--sklearn-color-unfitted-level-1) 1pt solid;\n",
              "}\n",
              "\n",
              "#sk-container-id-1 a.estimator_doc_link.fitted {\n",
              "  /* fitted */\n",
              "  border: var(--sklearn-color-fitted-level-1) 1pt solid;\n",
              "  color: var(--sklearn-color-fitted-level-1);\n",
              "}\n",
              "\n",
              "/* On hover */\n",
              "#sk-container-id-1 a.estimator_doc_link:hover {\n",
              "  /* unfitted */\n",
              "  background-color: var(--sklearn-color-unfitted-level-3);\n",
              "  color: var(--sklearn-color-background);\n",
              "  text-decoration: none;\n",
              "}\n",
              "\n",
              "#sk-container-id-1 a.estimator_doc_link.fitted:hover {\n",
              "  /* fitted */\n",
              "  background-color: var(--sklearn-color-fitted-level-3);\n",
              "}\n",
              "</style><div id=\"sk-container-id-1\" class=\"sk-top-container\"><div class=\"sk-text-repr-fallback\"><pre>RandomForestClassifier(random_state=42)</pre><b>In a Jupyter environment, please rerun this cell to show the HTML representation or trust the notebook. <br />On GitHub, the HTML representation is unable to render, please try loading this page with nbviewer.org.</b></div><div class=\"sk-container\" hidden><div class=\"sk-item\"><div class=\"sk-estimator fitted sk-toggleable\"><input class=\"sk-toggleable__control sk-hidden--visually\" id=\"sk-estimator-id-1\" type=\"checkbox\" checked><label for=\"sk-estimator-id-1\" class=\"sk-toggleable__label fitted sk-toggleable__label-arrow fitted\">&nbsp;&nbsp;RandomForestClassifier<a class=\"sk-estimator-doc-link fitted\" rel=\"noreferrer\" target=\"_blank\" href=\"https://scikit-learn.org/1.5/modules/generated/sklearn.ensemble.RandomForestClassifier.html\">?<span>Documentation for RandomForestClassifier</span></a><span class=\"sk-estimator-doc-link fitted\">i<span>Fitted</span></span></label><div class=\"sk-toggleable__content fitted\"><pre>RandomForestClassifier(random_state=42)</pre></div> </div></div></div></div>"
            ]
          },
          "metadata": {},
          "execution_count": 29
        }
      ]
    },
    {
      "cell_type": "code",
      "source": [
        "#Predict the labels for unseen(test) dataset\n",
        "y_pred=model.predict(testDataset) #x_test is the test feature dataset\n",
        "print(y_pred)\n"
      ],
      "metadata": {
        "id": "H-HsqMyNz_3o",
        "outputId": "31fde4e3-65be-47f7-c824-126d11533792",
        "colab": {
          "base_uri": "https://localhost:8080/"
        }
      },
      "execution_count": 33,
      "outputs": [
        {
          "output_type": "stream",
          "name": "stdout",
          "text": [
            "[0 0 0 ... 0 0 0]\n"
          ]
        }
      ]
    },
    {
      "cell_type": "code",
      "source": [
        "#Evaluate the Model on the Test Dataset\n",
        "import seaborn as sns\n",
        "\n",
        "#Use confution matrix : to see how many times the model predict each class compared to the actual lables\n",
        "from sklearn.metrics import confusion_matrix\n",
        "\n",
        "cm=confusion_matrix(y_test,y_pred)\n",
        "\n",
        "#plotting the result | test label Vs predicted label\n",
        "\n",
        "plt.figure(figsize=(12,8))\n",
        "sns.heatmap(cm,annot=True, fmt=\"d\",cmap=\"Blues\",xticklabels=range(cm.shape[1]), yticklabels=range(cm.shape[0]))\n",
        "\n",
        "\n",
        "plt.title(\"Confution Matrix result evaluation\")\n",
        "plt.xlabel(\"Predicted Lables\")\n",
        "plt.ylabel(\"True Lables\")\n",
        "plt.show()\n",
        "\n",
        "#summary of the confution matrix\n",
        "TP=[]\n",
        "FP=[]\n",
        "TN=[]\n",
        "FN=[]\n",
        "classes=[]\n",
        "\n",
        "for i in range(cm.shape[0]):\n",
        "  TP.append(cm[i,i])\n",
        "  FP.append(cm[:,i].sum()-cm[i,i])\n",
        "  FN.append(cm[i,:].sum()-cm[i,i])\n",
        "  TN.append(cm.sum()-(TP[i]+FP[i]+FN[i]))\n",
        "  classes.append(f'Class {i}')\n",
        "\n",
        "results_df = pd.DataFrame({'Class': classes, 'TP': TP, 'FP': FP, 'TN': TN, 'FN': FN })\n",
        "\n",
        "# Calculate Misclassification Rate\n",
        "results_df['Misclassification Rate'] = (results_df['FP'] + results_df['FN']) / (results_df['TP'] + results_df['FP'] + results_df['TN'] + results_df['FN'])\n",
        "\n",
        "# Display the results\n",
        "print(results_df)\n"
      ],
      "metadata": {
        "id": "bHogoQbM4U8r",
        "outputId": "adaaa341-5d90-4ac7-81e2-b30a24a3e312",
        "colab": {
          "base_uri": "https://localhost:8080/",
          "height": 944
        }
      },
      "execution_count": 47,
      "outputs": [
        {
          "output_type": "display_data",
          "data": {
            "text/plain": [
              "<Figure size 1200x800 with 2 Axes>"
            ],
            "image/png": "[encoded data removed]"
          },
          "metadata": {}
        },
        {
          "output_type": "stream",
          "name": "stdout",
          "text": [
            "       Class      TP   FP      TN    FN  Misclassification Rate\n",
            "0    Class 0  264444   33   53712  1327                0.004256\n",
            "1    Class 1    2054   30  317427     5                0.000110\n",
            "2    Class 2   46168   56  273245    47                0.000322\n",
            "3    Class 3    1097   11  318405     3                0.000044\n",
            "4    Class 4    1156    5  318352     3                0.000025\n",
            "5    Class 5    1588    0  317928     0                0.000000\n",
            "6    Class 6       2    0  319514     0                0.000000\n",
            "7    Class 7       6    1  319508     1                0.000006\n",
            "8    Class 8    1180    0  318336     0                0.000000\n",
            "9    Class 9     169  635  318580   132                0.002401\n",
            "10  Class 10       2    3  319509     2                0.000016\n",
            "11  Class 11      84  792  318594    46                0.002623\n"
          ]
        }
      ]
    },
    {
      "cell_type": "code",
      "source": [
        "#Genrate Classification report\n",
        "report=classification_report(y_test,y_pred,target_names=labelEncoder.classes_)\n",
        "print(report)\n"
      ],
      "metadata": {
        "id": "VoUXQA9yKqdG",
        "outputId": "8aa281f1-3d0b-425f-bb28-dee00c8f7e8b",
        "colab": {
          "base_uri": "https://localhost:8080/"
        }
      },
      "execution_count": 48,
      "outputs": [
        {
          "output_type": "stream",
          "name": "stdout",
          "text": [
            "                            precision    recall  f1-score   support\n",
            "\n",
            "                    BENIGN       1.00      1.00      1.00    265771\n",
            "             DoS GoldenEye       0.99      1.00      0.99      2059\n",
            "                  DoS Hulk       1.00      1.00      1.00     46215\n",
            "          DoS Slowhttptest       0.99      1.00      0.99      1100\n",
            "             DoS slowloris       1.00      1.00      1.00      1159\n",
            "               FTP-Patator       1.00      1.00      1.00      1588\n",
            "                Heartbleed       1.00      1.00      1.00         2\n",
            "              Infiltration       0.86      0.86      0.86         7\n",
            "               SSH-Patator       1.00      1.00      1.00      1180\n",
            "  Web Attack � Brute Force       0.21      0.56      0.31       301\n",
            "Web Attack � Sql Injection       0.40      0.50      0.44         4\n",
            "          Web Attack � XSS       0.10      0.65      0.17       130\n",
            "\n",
            "                  accuracy                           1.00    319516\n",
            "                 macro avg       0.79      0.88      0.81    319516\n",
            "              weighted avg       1.00      1.00      1.00    319516\n",
            "\n"
          ]
        }
      ]
    },
    {
      "cell_type": "code",
      "source": [
        "#Calculate the Accuracy Score\n",
        "from sklearn.metrics import accuracy_score\n",
        "accuracy=accuracy_score(y_test,y_pred)\n",
        "print(f' Accuracy of the model : {accuracy : .2f}')"
      ],
      "metadata": {
        "id": "kjTmSdA_LgFs",
        "outputId": "1a6d8de1-8702-441f-8bf4-d39d60d89cf9",
        "colab": {
          "base_uri": "https://localhost:8080/"
        }
      },
      "execution_count": 50,
      "outputs": [
        {
          "output_type": "stream",
          "name": "stdout",
          "text": [
            " Accuracy of the model :  1.00\n"
          ]
        }
      ]
    },
    {
      "cell_type": "code",
      "source": [
        "#Visualize model performances using ROC and Precision-Recall Curve\n",
        "\n",
        "#ROC\n",
        "from sklearn.metrics import roc_curve, auc\n",
        "\n",
        "#calculate ROC\n",
        "fpr,tpr,thresholds=roc_curve(y_test,y_pred,pos_label=1)\n",
        "roc_acc=auc(fpr,tpr)\n",
        "\n",
        "plt.figure(figsize=(10,6))\n",
        "plt.plot(fpr,tpr,color='blue',lw=2,label='ROC curve(area=%0.2f)'%roc_acc)\n",
        "plt.plot([0,1],[0,1],color='red',lw=2,linestyle='--')\n",
        "plt.xlim([0.0,1.0])\n",
        "plt.ylim([0.0,1.05])\n",
        "plt.xlabel('False Positive Rate')\n",
        "plt.ylabel('True Positve Rate')\n",
        "plt.title('Reciever operating characteristic')\n",
        "plt.legend(loc=\"lower right\")\n",
        "plt.grid()\n",
        "plt.show()"
      ],
      "metadata": {
        "id": "yL62VlejNpSu",
        "outputId": "dea195a3-a1a6-4472-fadf-50bcf4516567",
        "colab": {
          "base_uri": "https://localhost:8080/",
          "height": 564
        }
      },
      "execution_count": 54,
      "outputs": [
        {
          "output_type": "display_data",
          "data": {
            "text/plain": [
              "<Figure size 1000x600 with 1 Axes>"
            ],
            "image/png": "[encoded data removed]"
          },
          "metadata": {}
        }
      ]
    },
    {
      "cell_type": "code",
      "source": [
        "#Calculate Precition-Recall curve\n",
        "from sklearn.metrics import precision_recall_curve\n",
        "\n",
        "precision,recall,thresholds=precision_recall_curve(y_test,y_pred,pos_label=1)\n",
        "\n",
        "plt.figure(figsize=(10, 6))\n",
        "plt.plot(recall, precision, color='blue', lw=2)\n",
        "plt.xlabel('Recall')\n",
        "plt.ylabel('Precision')\n",
        "plt.title('Precision-Recall Curve')\n",
        "plt.xlim([0.0, 1.0])\n",
        "plt.ylim([0.0, 1.05])\n",
        "plt.grid()\n",
        "plt.show()"
      ],
      "metadata": {
        "id": "mUOL2NDTO_YF",
        "outputId": "bf5e659e-30cd-4d2e-ae19-f2b5c3846a6d",
        "colab": {
          "base_uri": "https://localhost:8080/",
          "height": 564
        }
      },
      "execution_count": 55,
      "outputs": [
        {
          "output_type": "display_data",
          "data": {
            "text/plain": [
              "<Figure size 1000x600 with 1 Axes>"
            ],
            "image/png": "[encoded data removed]"
          },
          "metadata": {}
        }
      ]
    },
    {
      "cell_type": "code",
      "source": [],
      "metadata": {
        "id": "0rREYSZQRCcs"
      },
      "execution_count": null,
      "outputs": []
    },
    {
      "cell_type": "markdown",
      "source": [],
      "metadata": {
        "id": "WTkVgXJvOXum"
      }
    },
    {
      "cell_type": "code",
      "source": [],
      "metadata": {
        "id": "CZm_6gzGN7Ld"
      },
      "execution_count": null,
      "outputs": []
    }
  ]
}