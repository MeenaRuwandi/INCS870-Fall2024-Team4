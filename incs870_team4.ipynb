{
  "nbformat": 4,
  "nbformat_minor": 0,
  "metadata": {
    "colab": {
      "provenance": [],
      "gpuType": "V28",
      "include_colab_link": true
    },
    "kernelspec": {
      "name": "python3",
      "display_name": "Python 3"
    },
    "language_info": {
      "name": "python"
    },
    "accelerator": "TPU"
  },
  "cells": [
    {
      "cell_type": "markdown",
      "metadata": {
        "id": "view-in-github",
        "colab_type": "text"
      },
      "source": [
        "<a href=\"https://colab.research.google.com/github/MeenaRuwandi/INCS_870_Project_IDSforMinorAttacks/blob/meena/incs870_team4.ipynb\" target=\"_parent\"><img src=\"https://colab.research.google.com/assets/colab-badge.svg\" alt=\"Open In Colab\"/></a>"
      ]
    },
    {
      "cell_type": "code",
      "source": [
        "!pip install imbalanced-learn\n",
        "!pip install scikit-learn"
      ],
      "metadata": {
        "colab": {
          "base_uri": "https://localhost:8080/"
        },
        "id": "kAonk6lUz5UI",
        "outputId": "66f1dacd-0b36-42c4-dedc-fec806e55c4d"
      },
      "execution_count": 15,
      "outputs": [
        {
          "output_type": "stream",
          "name": "stdout",
          "text": [
            "Requirement already satisfied: imbalanced-learn in /usr/local/lib/python3.10/dist-packages (0.12.3)\n",
            "Requirement already satisfied: numpy>=1.17.3 in /usr/local/lib/python3.10/dist-packages (from imbalanced-learn) (1.26.4)\n",
            "Requirement already satisfied: scipy>=1.5.0 in /usr/local/lib/python3.10/dist-packages (from imbalanced-learn) (1.13.1)\n",
            "Requirement already satisfied: scikit-learn>=1.0.2 in /usr/local/lib/python3.10/dist-packages (from imbalanced-learn) (1.5.2)\n",
            "Requirement already satisfied: joblib>=1.1.1 in /usr/local/lib/python3.10/dist-packages (from imbalanced-learn) (1.4.2)\n",
            "Requirement already satisfied: threadpoolctl>=2.0.0 in /usr/local/lib/python3.10/dist-packages (from imbalanced-learn) (3.5.0)\n",
            "Requirement already satisfied: scikit-learn in /usr/local/lib/python3.10/dist-packages (1.5.2)\n",
            "Requirement already satisfied: numpy>=1.19.5 in /usr/local/lib/python3.10/dist-packages (from scikit-learn) (1.26.4)\n",
            "Requirement already satisfied: scipy>=1.6.0 in /usr/local/lib/python3.10/dist-packages (from scikit-learn) (1.13.1)\n",
            "Requirement already satisfied: joblib>=1.2.0 in /usr/local/lib/python3.10/dist-packages (from scikit-learn) (1.4.2)\n",
            "Requirement already satisfied: threadpoolctl>=3.1.0 in /usr/local/lib/python3.10/dist-packages (from scikit-learn) (3.5.0)\n"
          ]
        }
      ]
    },
    {
      "cell_type": "code",
      "execution_count": 16,
      "metadata": {
        "colab": {
          "base_uri": "https://localhost:8080/"
        },
        "id": "xJzGzg0FzrC0",
        "outputId": "cda8c389-03e1-4808-e90a-7c9df3704d95"
      },
      "outputs": [
        {
          "output_type": "stream",
          "name": "stdout",
          "text": [
            "Requirement already satisfied: gdown in /usr/local/lib/python3.10/dist-packages (5.2.0)\n",
            "Requirement already satisfied: beautifulsoup4 in /usr/local/lib/python3.10/dist-packages (from gdown) (4.12.3)\n",
            "Requirement already satisfied: filelock in /usr/local/lib/python3.10/dist-packages (from gdown) (3.16.1)\n",
            "Requirement already satisfied: requests[socks] in /usr/local/lib/python3.10/dist-packages (from gdown) (2.32.3)\n",
            "Requirement already satisfied: tqdm in /usr/local/lib/python3.10/dist-packages (from gdown) (4.66.5)\n",
            "Requirement already satisfied: soupsieve>1.2 in /usr/local/lib/python3.10/dist-packages (from beautifulsoup4->gdown) (2.6)\n",
            "Requirement already satisfied: charset-normalizer<4,>=2 in /usr/local/lib/python3.10/dist-packages (from requests[socks]->gdown) (3.3.2)\n",
            "Requirement already satisfied: idna<4,>=2.5 in /usr/local/lib/python3.10/dist-packages (from requests[socks]->gdown) (3.10)\n",
            "Requirement already satisfied: urllib3<3,>=1.21.1 in /usr/local/lib/python3.10/dist-packages (from requests[socks]->gdown) (2.2.3)\n",
            "Requirement already satisfied: certifi>=2017.4.17 in /usr/local/lib/python3.10/dist-packages (from requests[socks]->gdown) (2024.8.30)\n",
            "Requirement already satisfied: PySocks!=1.5.7,>=1.5.6 in /usr/local/lib/python3.10/dist-packages (from requests[socks]->gdown) (1.7.1)\n"
          ]
        }
      ],
      "source": [
        "!pip install gdown\n",
        "import gdown"
      ]
    },
    {
      "cell_type": "code",
      "source": [
        "# Required Libraries\n",
        "import pandas as pd\n",
        "from sklearn.model_selection import train_test_split\n",
        "from sklearn.preprocessing import StandardScaler\n",
        "from imblearn.over_sampling import SMOTE\n",
        "from sklearn.ensemble import RandomForestClassifier\n",
        "from sklearn.metrics import classification_report, confusion_matrix"
      ],
      "metadata": {
        "id": "G2mRgdV89K2S"
      },
      "execution_count": 17,
      "outputs": []
    },
    {
      "cell_type": "code",
      "source": [
        "file_ids = [\n",
        "    '1zOeCqtGZjAj_nSLe3W5MH5pDQM28bPde',  # Replace with actual file ID\n",
        "    '1fagr2rKW8EN-Psc5UlD9BFfa0rRRF6i3',  # Replace with actual file ID\n",
        "    '1WL00LFkCA2ylV8_8c6jm52bnEhGLcKsq',   # Replace with actual file ID\n",
        "    '1xr_QBU3Ab42nW1ELl0NUydx4Rbx60TVR',\n",
        "    '1MpqHsC5wQSu9CxlhJimz25EVcYubSMhu',\n",
        "    '18mKfJHXinmfwPpaYNU2D6xHwq4dQuEuL',\n",
        "    '1h1lMHytamf4Kc66NfAfMfBzDbmwM5Ub5',\n",
        "    '11__JhC64_D4ezxjF8d0dPNRDJF-TY6Pq'\n",
        "]\n",
        "\n",
        "\n",
        "# Download each file\n",
        "for i, file_id in enumerate(file_ids):\n",
        "    url = f'https://drive.google.com/uc?id={file_id}'\n",
        "    gdown.download(url, f'dataset_{i + 1}.csv', quiet=False)  # Saves as dataset_1.csv, dataset_2.csv, etc."
      ],
      "metadata": {
        "colab": {
          "base_uri": "https://localhost:8080/"
        },
        "id": "yQuMhkmd0NNe",
        "outputId": "7534656c-8ed0-44c7-f15b-693c48b9a8d3"
      },
      "execution_count": 18,
      "outputs": [
        {
          "output_type": "stream",
          "name": "stderr",
          "text": [
            "Downloading...\n",
            "From (original): https://drive.google.com/uc?id=1zOeCqtGZjAj_nSLe3W5MH5pDQM28bPde\n",
            "From (redirected): https://drive.google.com/uc?id=1zOeCqtGZjAj_nSLe3W5MH5pDQM28bPde&confirm=t&uuid=090bd13e-9f78-4870-903e-d7b195d2f496\n",
            "To: /content/dataset_1.csv\n",
            "100%|██████████| 225M/225M [00:00<00:00, 304MB/s]\n",
            "Downloading...\n",
            "From (original): https://drive.google.com/uc?id=1fagr2rKW8EN-Psc5UlD9BFfa0rRRF6i3\n",
            "From (redirected): https://drive.google.com/uc?id=1fagr2rKW8EN-Psc5UlD9BFfa0rRRF6i3&confirm=t&uuid=a53de6cb-fc0d-4e65-8bc4-944d1771cc00\n",
            "To: /content/dataset_2.csv\n",
            "100%|██████████| 135M/135M [00:01<00:00, 71.9MB/s]\n",
            "Downloading...\n",
            "From (original): https://drive.google.com/uc?id=1WL00LFkCA2ylV8_8c6jm52bnEhGLcKsq\n",
            "From (redirected): https://drive.google.com/uc?id=1WL00LFkCA2ylV8_8c6jm52bnEhGLcKsq&confirm=t&uuid=8edd16e8-b603-415c-8e15-29d15b2bfa4c\n",
            "To: /content/dataset_3.csv\n",
            "100%|██████████| 52.0M/52.0M [00:00<00:00, 203MB/s]\n",
            "Downloading...\n",
            "From: https://drive.google.com/uc?id=1xr_QBU3Ab42nW1ELl0NUydx4Rbx60TVR\n",
            "To: /content/dataset_4.csv\n",
            "100%|██████████| 83.1M/83.1M [00:00<00:00, 202MB/s]\n",
            "Downloading...\n",
            "From (original): https://drive.google.com/uc?id=1MpqHsC5wQSu9CxlhJimz25EVcYubSMhu\n",
            "From (redirected): https://drive.google.com/uc?id=1MpqHsC5wQSu9CxlhJimz25EVcYubSMhu&confirm=t&uuid=0989b3ce-da28-466a-be00-1ac978030d55\n",
            "To: /content/dataset_5.csv\n",
            "100%|██████████| 177M/177M [00:00<00:00, 183MB/s]\n",
            "Downloading...\n",
            "From: https://drive.google.com/uc?id=18mKfJHXinmfwPpaYNU2D6xHwq4dQuEuL\n",
            "To: /content/dataset_6.csv\n",
            "100%|██████████| 58.3M/58.3M [00:00<00:00, 208MB/s]\n",
            "Downloading...\n",
            "From: https://drive.google.com/uc?id=1h1lMHytamf4Kc66NfAfMfBzDbmwM5Ub5\n",
            "To: /content/dataset_7.csv\n",
            "100%|██████████| 76.9M/76.9M [00:00<00:00, 176MB/s]\n",
            "Downloading...\n",
            "From: https://drive.google.com/uc?id=11__JhC64_D4ezxjF8d0dPNRDJF-TY6Pq\n",
            "To: /content/dataset_8.csv\n",
            "100%|██████████| 77.1M/77.1M [00:00<00:00, 89.9MB/s]\n"
          ]
        }
      ]
    },
    {
      "cell_type": "code",
      "source": [
        "dataset_paths = [\n",
        "    '/content/dataset_1.csv','/content/dataset_2.csv','/content/dataset_3.csv','/content/dataset_4.csv',\n",
        "    '/content/dataset_5.csv','/content/dataset_6.csv','/content/dataset_7.csv','/content/dataset_8.csv',\n",
        "]\n",
        "\n",
        "# Make the data frame\n",
        "dataframes = [pd.read_csv(path) for path in dataset_paths]\n",
        "\n",
        "# Combine all datasets into one dataframe\n",
        "combined_dataset = pd.concat(dataframes, ignore_index=True)"
      ],
      "metadata": {
        "id": "Z4B6Sgje9cA8"
      },
      "execution_count": 19,
      "outputs": []
    },
    {
      "cell_type": "code",
      "source": [
        "combined_dataset.describe()"
      ],
      "metadata": {
        "id": "M4JSokVCATPY",
        "outputId": "0eb327d0-7821-413a-cdec-a6b46530e137",
        "colab": {
          "base_uri": "https://localhost:8080/",
          "height": 453
        }
      },
      "execution_count": 20,
      "outputs": [
        {
          "output_type": "stream",
          "name": "stderr",
          "text": [
            "/usr/local/lib/python3.10/dist-packages/pandas/core/nanops.py:1010: RuntimeWarning: invalid value encountered in subtract\n",
            "  sqr = _ensure_numeric((avg - values) ** 2)\n",
            "/usr/local/lib/python3.10/dist-packages/pandas/core/nanops.py:1010: RuntimeWarning: invalid value encountered in subtract\n",
            "  sqr = _ensure_numeric((avg - values) ** 2)\n"
          ]
        },
        {
          "output_type": "execute_result",
          "data": {
            "text/plain": [
              "        Destination Port   Flow Duration   Total Fwd Packets  \\\n",
              "count       2.830743e+06    2.830743e+06        2.830743e+06   \n",
              "mean        8.071483e+03    1.478566e+07        9.361160e+00   \n",
              "std         1.828363e+04    3.365374e+07        7.496728e+02   \n",
              "min         0.000000e+00   -1.300000e+01        1.000000e+00   \n",
              "25%         5.300000e+01    1.550000e+02        2.000000e+00   \n",
              "50%         8.000000e+01    3.131600e+04        2.000000e+00   \n",
              "75%         4.430000e+02    3.204828e+06        5.000000e+00   \n",
              "max         6.553500e+04    1.200000e+08        2.197590e+05   \n",
              "\n",
              "        Total Backward Packets  Total Length of Fwd Packets  \\\n",
              "count             2.830743e+06                 2.830743e+06   \n",
              "mean              1.039377e+01                 5.493024e+02   \n",
              "std               9.973883e+02                 9.993589e+03   \n",
              "min               0.000000e+00                 0.000000e+00   \n",
              "25%               1.000000e+00                 1.200000e+01   \n",
              "50%               2.000000e+00                 6.200000e+01   \n",
              "75%               4.000000e+00                 1.870000e+02   \n",
              "max               2.919220e+05                 1.290000e+07   \n",
              "\n",
              "        Total Length of Bwd Packets   Fwd Packet Length Max  \\\n",
              "count                  2.830743e+06            2.830743e+06   \n",
              "mean                   1.616264e+04            2.075999e+02   \n",
              "std                    2.263088e+06            7.171848e+02   \n",
              "min                    0.000000e+00            0.000000e+00   \n",
              "25%                    0.000000e+00            6.000000e+00   \n",
              "50%                    1.230000e+02            3.700000e+01   \n",
              "75%                    4.820000e+02            8.100000e+01   \n",
              "max                    6.554530e+08            2.482000e+04   \n",
              "\n",
              "        Fwd Packet Length Min   Fwd Packet Length Mean  \\\n",
              "count            2.830743e+06             2.830743e+06   \n",
              "mean             1.871366e+01             5.820194e+01   \n",
              "std              6.033935e+01             1.860912e+02   \n",
              "min              0.000000e+00             0.000000e+00   \n",
              "25%              0.000000e+00             6.000000e+00   \n",
              "50%              2.000000e+00             3.400000e+01   \n",
              "75%              3.600000e+01             5.000000e+01   \n",
              "max              2.325000e+03             5.940857e+03   \n",
              "\n",
              "        Fwd Packet Length Std  ...   act_data_pkt_fwd   min_seg_size_forward  \\\n",
              "count            2.830743e+06  ...       2.830743e+06           2.830743e+06   \n",
              "mean             6.891013e+01  ...       5.418218e+00          -2.741688e+03   \n",
              "std              2.811871e+02  ...       6.364257e+02           1.084989e+06   \n",
              "min              0.000000e+00  ...       0.000000e+00          -5.368707e+08   \n",
              "25%              0.000000e+00  ...       0.000000e+00           2.000000e+01   \n",
              "50%              0.000000e+00  ...       1.000000e+00           2.400000e+01   \n",
              "75%              2.616295e+01  ...       2.000000e+00           3.200000e+01   \n",
              "max              7.125597e+03  ...       2.135570e+05           1.380000e+02   \n",
              "\n",
              "        Active Mean    Active Std    Active Max    Active Min     Idle Mean  \\\n",
              "count  2.830743e+06  2.830743e+06  2.830743e+06  2.830743e+06  2.830743e+06   \n",
              "mean   8.155132e+04  4.113412e+04  1.531825e+05  5.829582e+04  8.316037e+06   \n",
              "std    6.485999e+05  3.933815e+05  1.025825e+06  5.770923e+05  2.363008e+07   \n",
              "min    0.000000e+00  0.000000e+00  0.000000e+00  0.000000e+00  0.000000e+00   \n",
              "25%    0.000000e+00  0.000000e+00  0.000000e+00  0.000000e+00  0.000000e+00   \n",
              "50%    0.000000e+00  0.000000e+00  0.000000e+00  0.000000e+00  0.000000e+00   \n",
              "75%    0.000000e+00  0.000000e+00  0.000000e+00  0.000000e+00  0.000000e+00   \n",
              "max    1.100000e+08  7.420000e+07  1.100000e+08  1.100000e+08  1.200000e+08   \n",
              "\n",
              "           Idle Std      Idle Max      Idle Min  \n",
              "count  2.830743e+06  2.830743e+06  2.830743e+06  \n",
              "mean   5.038439e+05  8.695752e+06  7.920031e+06  \n",
              "std    4.602984e+06  2.436689e+07  2.336342e+07  \n",
              "min    0.000000e+00  0.000000e+00  0.000000e+00  \n",
              "25%    0.000000e+00  0.000000e+00  0.000000e+00  \n",
              "50%    0.000000e+00  0.000000e+00  0.000000e+00  \n",
              "75%    0.000000e+00  0.000000e+00  0.000000e+00  \n",
              "max    7.690000e+07  1.200000e+08  1.200000e+08  \n",
              "\n",
              "[8 rows x 78 columns]"
            ],
            "text/html": [
              "\n",
              "  <div id=\"df-6b9d09ef-7494-48d5-8918-0caac2de736f\" class=\"colab-df-container\">\n",
              "    <div>\n",
              "<style scoped>\n",
              "    .dataframe tbody tr th:only-of-type {\n",
              "        vertical-align: middle;\n",
              "    }\n",
              "\n",
              "    .dataframe tbody tr th {\n",
              "        vertical-align: top;\n",
              "    }\n",
              "\n",
              "    .dataframe thead th {\n",
              "        text-align: right;\n",
              "    }\n",
              "</style>\n",
              "<table border=\"1\" class=\"dataframe\">\n",
              "  <thead>\n",
              "    <tr style=\"text-align: right;\">\n",
              "      <th></th>\n",
              "      <th>Destination Port</th>\n",
              "      <th>Flow Duration</th>\n",
              "      <th>Total Fwd Packets</th>\n",
              "      <th>Total Backward Packets</th>\n",
              "      <th>Total Length of Fwd Packets</th>\n",
              "      <th>Total Length of Bwd Packets</th>\n",
              "      <th>Fwd Packet Length Max</th>\n",
              "      <th>Fwd Packet Length Min</th>\n",
              "      <th>Fwd Packet Length Mean</th>\n",
              "      <th>Fwd Packet Length Std</th>\n",
              "      <th>...</th>\n",
              "      <th>act_data_pkt_fwd</th>\n",
              "      <th>min_seg_size_forward</th>\n",
              "      <th>Active Mean</th>\n",
              "      <th>Active Std</th>\n",
              "      <th>Active Max</th>\n",
              "      <th>Active Min</th>\n",
              "      <th>Idle Mean</th>\n",
              "      <th>Idle Std</th>\n",
              "      <th>Idle Max</th>\n",
              "      <th>Idle Min</th>\n",
              "    </tr>\n",
              "  </thead>\n",
              "  <tbody>\n",
              "    <tr>\n",
              "      <th>count</th>\n",
              "      <td>2.830743e+06</td>\n",
              "      <td>2.830743e+06</td>\n",
              "      <td>2.830743e+06</td>\n",
              "      <td>2.830743e+06</td>\n",
              "      <td>2.830743e+06</td>\n",
              "      <td>2.830743e+06</td>\n",
              "      <td>2.830743e+06</td>\n",
              "      <td>2.830743e+06</td>\n",
              "      <td>2.830743e+06</td>\n",
              "      <td>2.830743e+06</td>\n",
              "      <td>...</td>\n",
              "      <td>2.830743e+06</td>\n",
              "      <td>2.830743e+06</td>\n",
              "      <td>2.830743e+06</td>\n",
              "      <td>2.830743e+06</td>\n",
              "      <td>2.830743e+06</td>\n",
              "      <td>2.830743e+06</td>\n",
              "      <td>2.830743e+06</td>\n",
              "      <td>2.830743e+06</td>\n",
              "      <td>2.830743e+06</td>\n",
              "      <td>2.830743e+06</td>\n",
              "    </tr>\n",
              "    <tr>\n",
              "      <th>mean</th>\n",
              "      <td>8.071483e+03</td>\n",
              "      <td>1.478566e+07</td>\n",
              "      <td>9.361160e+00</td>\n",
              "      <td>1.039377e+01</td>\n",
              "      <td>5.493024e+02</td>\n",
              "      <td>1.616264e+04</td>\n",
              "      <td>2.075999e+02</td>\n",
              "      <td>1.871366e+01</td>\n",
              "      <td>5.820194e+01</td>\n",
              "      <td>6.891013e+01</td>\n",
              "      <td>...</td>\n",
              "      <td>5.418218e+00</td>\n",
              "      <td>-2.741688e+03</td>\n",
              "      <td>8.155132e+04</td>\n",
              "      <td>4.113412e+04</td>\n",
              "      <td>1.531825e+05</td>\n",
              "      <td>5.829582e+04</td>\n",
              "      <td>8.316037e+06</td>\n",
              "      <td>5.038439e+05</td>\n",
              "      <td>8.695752e+06</td>\n",
              "      <td>7.920031e+06</td>\n",
              "    </tr>\n",
              "    <tr>\n",
              "      <th>std</th>\n",
              "      <td>1.828363e+04</td>\n",
              "      <td>3.365374e+07</td>\n",
              "      <td>7.496728e+02</td>\n",
              "      <td>9.973883e+02</td>\n",
              "      <td>9.993589e+03</td>\n",
              "      <td>2.263088e+06</td>\n",
              "      <td>7.171848e+02</td>\n",
              "      <td>6.033935e+01</td>\n",
              "      <td>1.860912e+02</td>\n",
              "      <td>2.811871e+02</td>\n",
              "      <td>...</td>\n",
              "      <td>6.364257e+02</td>\n",
              "      <td>1.084989e+06</td>\n",
              "      <td>6.485999e+05</td>\n",
              "      <td>3.933815e+05</td>\n",
              "      <td>1.025825e+06</td>\n",
              "      <td>5.770923e+05</td>\n",
              "      <td>2.363008e+07</td>\n",
              "      <td>4.602984e+06</td>\n",
              "      <td>2.436689e+07</td>\n",
              "      <td>2.336342e+07</td>\n",
              "    </tr>\n",
              "    <tr>\n",
              "      <th>min</th>\n",
              "      <td>0.000000e+00</td>\n",
              "      <td>-1.300000e+01</td>\n",
              "      <td>1.000000e+00</td>\n",
              "      <td>0.000000e+00</td>\n",
              "      <td>0.000000e+00</td>\n",
              "      <td>0.000000e+00</td>\n",
              "      <td>0.000000e+00</td>\n",
              "      <td>0.000000e+00</td>\n",
              "      <td>0.000000e+00</td>\n",
              "      <td>0.000000e+00</td>\n",
              "      <td>...</td>\n",
              "      <td>0.000000e+00</td>\n",
              "      <td>-5.368707e+08</td>\n",
              "      <td>0.000000e+00</td>\n",
              "      <td>0.000000e+00</td>\n",
              "      <td>0.000000e+00</td>\n",
              "      <td>0.000000e+00</td>\n",
              "      <td>0.000000e+00</td>\n",
              "      <td>0.000000e+00</td>\n",
              "      <td>0.000000e+00</td>\n",
              "      <td>0.000000e+00</td>\n",
              "    </tr>\n",
              "    <tr>\n",
              "      <th>25%</th>\n",
              "      <td>5.300000e+01</td>\n",
              "      <td>1.550000e+02</td>\n",
              "      <td>2.000000e+00</td>\n",
              "      <td>1.000000e+00</td>\n",
              "      <td>1.200000e+01</td>\n",
              "      <td>0.000000e+00</td>\n",
              "      <td>6.000000e+00</td>\n",
              "      <td>0.000000e+00</td>\n",
              "      <td>6.000000e+00</td>\n",
              "      <td>0.000000e+00</td>\n",
              "      <td>...</td>\n",
              "      <td>0.000000e+00</td>\n",
              "      <td>2.000000e+01</td>\n",
              "      <td>0.000000e+00</td>\n",
              "      <td>0.000000e+00</td>\n",
              "      <td>0.000000e+00</td>\n",
              "      <td>0.000000e+00</td>\n",
              "      <td>0.000000e+00</td>\n",
              "      <td>0.000000e+00</td>\n",
              "      <td>0.000000e+00</td>\n",
              "      <td>0.000000e+00</td>\n",
              "    </tr>\n",
              "    <tr>\n",
              "      <th>50%</th>\n",
              "      <td>8.000000e+01</td>\n",
              "      <td>3.131600e+04</td>\n",
              "      <td>2.000000e+00</td>\n",
              "      <td>2.000000e+00</td>\n",
              "      <td>6.200000e+01</td>\n",
              "      <td>1.230000e+02</td>\n",
              "      <td>3.700000e+01</td>\n",
              "      <td>2.000000e+00</td>\n",
              "      <td>3.400000e+01</td>\n",
              "      <td>0.000000e+00</td>\n",
              "      <td>...</td>\n",
              "      <td>1.000000e+00</td>\n",
              "      <td>2.400000e+01</td>\n",
              "      <td>0.000000e+00</td>\n",
              "      <td>0.000000e+00</td>\n",
              "      <td>0.000000e+00</td>\n",
              "      <td>0.000000e+00</td>\n",
              "      <td>0.000000e+00</td>\n",
              "      <td>0.000000e+00</td>\n",
              "      <td>0.000000e+00</td>\n",
              "      <td>0.000000e+00</td>\n",
              "    </tr>\n",
              "    <tr>\n",
              "      <th>75%</th>\n",
              "      <td>4.430000e+02</td>\n",
              "      <td>3.204828e+06</td>\n",
              "      <td>5.000000e+00</td>\n",
              "      <td>4.000000e+00</td>\n",
              "      <td>1.870000e+02</td>\n",
              "      <td>4.820000e+02</td>\n",
              "      <td>8.100000e+01</td>\n",
              "      <td>3.600000e+01</td>\n",
              "      <td>5.000000e+01</td>\n",
              "      <td>2.616295e+01</td>\n",
              "      <td>...</td>\n",
              "      <td>2.000000e+00</td>\n",
              "      <td>3.200000e+01</td>\n",
              "      <td>0.000000e+00</td>\n",
              "      <td>0.000000e+00</td>\n",
              "      <td>0.000000e+00</td>\n",
              "      <td>0.000000e+00</td>\n",
              "      <td>0.000000e+00</td>\n",
              "      <td>0.000000e+00</td>\n",
              "      <td>0.000000e+00</td>\n",
              "      <td>0.000000e+00</td>\n",
              "    </tr>\n",
              "    <tr>\n",
              "      <th>max</th>\n",
              "      <td>6.553500e+04</td>\n",
              "      <td>1.200000e+08</td>\n",
              "      <td>2.197590e+05</td>\n",
              "      <td>2.919220e+05</td>\n",
              "      <td>1.290000e+07</td>\n",
              "      <td>6.554530e+08</td>\n",
              "      <td>2.482000e+04</td>\n",
              "      <td>2.325000e+03</td>\n",
              "      <td>5.940857e+03</td>\n",
              "      <td>7.125597e+03</td>\n",
              "      <td>...</td>\n",
              "      <td>2.135570e+05</td>\n",
              "      <td>1.380000e+02</td>\n",
              "      <td>1.100000e+08</td>\n",
              "      <td>7.420000e+07</td>\n",
              "      <td>1.100000e+08</td>\n",
              "      <td>1.100000e+08</td>\n",
              "      <td>1.200000e+08</td>\n",
              "      <td>7.690000e+07</td>\n",
              "      <td>1.200000e+08</td>\n",
              "      <td>1.200000e+08</td>\n",
              "    </tr>\n",
              "  </tbody>\n",
              "</table>\n",
              "<p>8 rows × 78 columns</p>\n",
              "</div>\n",
              "    <div class=\"colab-df-buttons\">\n",
              "\n",
              "  <div class=\"colab-df-container\">\n",
              "    <button class=\"colab-df-convert\" onclick=\"convertToInteractive('df-6b9d09ef-7494-48d5-8918-0caac2de736f')\"\n",
              "            title=\"Convert this dataframe to an interactive table.\"\n",
              "            style=\"display:none;\">\n",
              "\n",
              "  <svg xmlns=\"http://www.w3.org/2000/svg\" height=\"24px\" viewBox=\"0 -960 960 960\">\n",
              "    <path d=\"M120-120v-720h720v720H120Zm60-500h600v-160H180v160Zm220 220h160v-160H400v160Zm0 220h160v-160H400v160ZM180-400h160v-160H180v160Zm440 0h160v-160H620v160ZM180-180h160v-160H180v160Zm440 0h160v-160H620v160Z\"/>\n",
              "  </svg>\n",
              "    </button>\n",
              "\n",
              "  <style>\n",
              "    .colab-df-container {\n",
              "      display:flex;\n",
              "      gap: 12px;\n",
              "    }\n",
              "\n",
              "    .colab-df-convert {\n",
              "      background-color: #E8F0FE;\n",
              "      border: none;\n",
              "      border-radius: 50%;\n",
              "      cursor: pointer;\n",
              "      display: none;\n",
              "      fill: #1967D2;\n",
              "      height: 32px;\n",
              "      padding: 0 0 0 0;\n",
              "      width: 32px;\n",
              "    }\n",
              "\n",
              "    .colab-df-convert:hover {\n",
              "      background-color: #E2EBFA;\n",
              "      box-shadow: 0px 1px 2px rgba(60, 64, 67, 0.3), 0px 1px 3px 1px rgba(60, 64, 67, 0.15);\n",
              "      fill: #174EA6;\n",
              "    }\n",
              "\n",
              "    .colab-df-buttons div {\n",
              "      margin-bottom: 4px;\n",
              "    }\n",
              "\n",
              "    [theme=dark] .colab-df-convert {\n",
              "      background-color: #3B4455;\n",
              "      fill: #D2E3FC;\n",
              "    }\n",
              "\n",
              "    [theme=dark] .colab-df-convert:hover {\n",
              "      background-color: #434B5C;\n",
              "      box-shadow: 0px 1px 3px 1px rgba(0, 0, 0, 0.15);\n",
              "      filter: drop-shadow(0px 1px 2px rgba(0, 0, 0, 0.3));\n",
              "      fill: #FFFFFF;\n",
              "    }\n",
              "  </style>\n",
              "\n",
              "    <script>\n",
              "      const buttonEl =\n",
              "        document.querySelector('#df-6b9d09ef-7494-48d5-8918-0caac2de736f button.colab-df-convert');\n",
              "      buttonEl.style.display =\n",
              "        google.colab.kernel.accessAllowed ? 'block' : 'none';\n",
              "\n",
              "      async function convertToInteractive(key) {\n",
              "        const element = document.querySelector('#df-6b9d09ef-7494-48d5-8918-0caac2de736f');\n",
              "        const dataTable =\n",
              "          await google.colab.kernel.invokeFunction('convertToInteractive',\n",
              "                                                    [key], {});\n",
              "        if (!dataTable) return;\n",
              "\n",
              "        const docLinkHtml = 'Like what you see? Visit the ' +\n",
              "          '<a target=\"_blank\" href=https://colab.research.google.com/notebooks/data_table.ipynb>data table notebook</a>'\n",
              "          + ' to learn more about interactive tables.';\n",
              "        element.innerHTML = '';\n",
              "        dataTable['output_type'] = 'display_data';\n",
              "        await google.colab.output.renderOutput(dataTable, element);\n",
              "        const docLink = document.createElement('div');\n",
              "        docLink.innerHTML = docLinkHtml;\n",
              "        element.appendChild(docLink);\n",
              "      }\n",
              "    </script>\n",
              "  </div>\n",
              "\n",
              "\n",
              "<div id=\"df-3e077c5c-7b6e-4350-a024-ae96876c906c\">\n",
              "  <button class=\"colab-df-quickchart\" onclick=\"quickchart('df-3e077c5c-7b6e-4350-a024-ae96876c906c')\"\n",
              "            title=\"Suggest charts\"\n",
              "            style=\"display:none;\">\n",
              "\n",
              "<svg xmlns=\"http://www.w3.org/2000/svg\" height=\"24px\"viewBox=\"0 0 24 24\"\n",
              "     width=\"24px\">\n",
              "    <g>\n",
              "        <path d=\"M19 3H5c-1.1 0-2 .9-2 2v14c0 1.1.9 2 2 2h14c1.1 0 2-.9 2-2V5c0-1.1-.9-2-2-2zM9 17H7v-7h2v7zm4 0h-2V7h2v10zm4 0h-2v-4h2v4z\"/>\n",
              "    </g>\n",
              "</svg>\n",
              "  </button>\n",
              "\n",
              "<style>\n",
              "  .colab-df-quickchart {\n",
              "      --bg-color: #E8F0FE;\n",
              "      --fill-color: #1967D2;\n",
              "      --hover-bg-color: #E2EBFA;\n",
              "      --hover-fill-color: #174EA6;\n",
              "      --disabled-fill-color: #AAA;\n",
              "      --disabled-bg-color: #DDD;\n",
              "  }\n",
              "\n",
              "  [theme=dark] .colab-df-quickchart {\n",
              "      --bg-color: #3B4455;\n",
              "      --fill-color: #D2E3FC;\n",
              "      --hover-bg-color: #434B5C;\n",
              "      --hover-fill-color: #FFFFFF;\n",
              "      --disabled-bg-color: #3B4455;\n",
              "      --disabled-fill-color: #666;\n",
              "  }\n",
              "\n",
              "  .colab-df-quickchart {\n",
              "    background-color: var(--bg-color);\n",
              "    border: none;\n",
              "    border-radius: 50%;\n",
              "    cursor: pointer;\n",
              "    display: none;\n",
              "    fill: var(--fill-color);\n",
              "    height: 32px;\n",
              "    padding: 0;\n",
              "    width: 32px;\n",
              "  }\n",
              "\n",
              "  .colab-df-quickchart:hover {\n",
              "    background-color: var(--hover-bg-color);\n",
              "    box-shadow: 0 1px 2px rgba(60, 64, 67, 0.3), 0 1px 3px 1px rgba(60, 64, 67, 0.15);\n",
              "    fill: var(--button-hover-fill-color);\n",
              "  }\n",
              "\n",
              "  .colab-df-quickchart-complete:disabled,\n",
              "  .colab-df-quickchart-complete:disabled:hover {\n",
              "    background-color: var(--disabled-bg-color);\n",
              "    fill: var(--disabled-fill-color);\n",
              "    box-shadow: none;\n",
              "  }\n",
              "\n",
              "  .colab-df-spinner {\n",
              "    border: 2px solid var(--fill-color);\n",
              "    border-color: transparent;\n",
              "    border-bottom-color: var(--fill-color);\n",
              "    animation:\n",
              "      spin 1s steps(1) infinite;\n",
              "  }\n",
              "\n",
              "  @keyframes spin {\n",
              "    0% {\n",
              "      border-color: transparent;\n",
              "      border-bottom-color: var(--fill-color);\n",
              "      border-left-color: var(--fill-color);\n",
              "    }\n",
              "    20% {\n",
              "      border-color: transparent;\n",
              "      border-left-color: var(--fill-color);\n",
              "      border-top-color: var(--fill-color);\n",
              "    }\n",
              "    30% {\n",
              "      border-color: transparent;\n",
              "      border-left-color: var(--fill-color);\n",
              "      border-top-color: var(--fill-color);\n",
              "      border-right-color: var(--fill-color);\n",
              "    }\n",
              "    40% {\n",
              "      border-color: transparent;\n",
              "      border-right-color: var(--fill-color);\n",
              "      border-top-color: var(--fill-color);\n",
              "    }\n",
              "    60% {\n",
              "      border-color: transparent;\n",
              "      border-right-color: var(--fill-color);\n",
              "    }\n",
              "    80% {\n",
              "      border-color: transparent;\n",
              "      border-right-color: var(--fill-color);\n",
              "      border-bottom-color: var(--fill-color);\n",
              "    }\n",
              "    90% {\n",
              "      border-color: transparent;\n",
              "      border-bottom-color: var(--fill-color);\n",
              "    }\n",
              "  }\n",
              "</style>\n",
              "\n",
              "  <script>\n",
              "    async function quickchart(key) {\n",
              "      const quickchartButtonEl =\n",
              "        document.querySelector('#' + key + ' button');\n",
              "      quickchartButtonEl.disabled = true;  // To prevent multiple clicks.\n",
              "      quickchartButtonEl.classList.add('colab-df-spinner');\n",
              "      try {\n",
              "        const charts = await google.colab.kernel.invokeFunction(\n",
              "            'suggestCharts', [key], {});\n",
              "      } catch (error) {\n",
              "        console.error('Error during call to suggestCharts:', error);\n",
              "      }\n",
              "      quickchartButtonEl.classList.remove('colab-df-spinner');\n",
              "      quickchartButtonEl.classList.add('colab-df-quickchart-complete');\n",
              "    }\n",
              "    (() => {\n",
              "      let quickchartButtonEl =\n",
              "        document.querySelector('#df-3e077c5c-7b6e-4350-a024-ae96876c906c button');\n",
              "      quickchartButtonEl.style.display =\n",
              "        google.colab.kernel.accessAllowed ? 'block' : 'none';\n",
              "    })();\n",
              "  </script>\n",
              "</div>\n",
              "\n",
              "    </div>\n",
              "  </div>\n"
            ],
            "application/vnd.google.colaboratory.intrinsic+json": {
              "type": "dataframe"
            }
          },
          "metadata": {},
          "execution_count": 20
        }
      ]
    },
    {
      "cell_type": "code",
      "source": [
        "combined_dataset.shape"
      ],
      "metadata": {
        "id": "d3t3Uy7JAhj1",
        "outputId": "7e42da47-af5a-4623-aebe-2ddc5a7db72f",
        "colab": {
          "base_uri": "https://localhost:8080/"
        }
      },
      "execution_count": 21,
      "outputs": [
        {
          "output_type": "execute_result",
          "data": {
            "text/plain": [
              "(2830743, 79)"
            ]
          },
          "metadata": {},
          "execution_count": 21
        }
      ]
    },
    {
      "cell_type": "code",
      "source": [
        "combined_dataset.info()"
      ],
      "metadata": {
        "id": "ZIxOX8_R1Sin",
        "outputId": "579e2969-24a1-48e9-ed4e-05af9184a926",
        "colab": {
          "base_uri": "https://localhost:8080/"
        }
      },
      "execution_count": 22,
      "outputs": [
        {
          "output_type": "stream",
          "name": "stdout",
          "text": [
            "<class 'pandas.core.frame.DataFrame'>\n",
            "RangeIndex: 2830743 entries, 0 to 2830742\n",
            "Data columns (total 79 columns):\n",
            " #   Column                        Dtype  \n",
            "---  ------                        -----  \n",
            " 0    Destination Port             int64  \n",
            " 1    Flow Duration                int64  \n",
            " 2    Total Fwd Packets            int64  \n",
            " 3    Total Backward Packets       int64  \n",
            " 4   Total Length of Fwd Packets   int64  \n",
            " 5    Total Length of Bwd Packets  int64  \n",
            " 6    Fwd Packet Length Max        int64  \n",
            " 7    Fwd Packet Length Min        int64  \n",
            " 8    Fwd Packet Length Mean       float64\n",
            " 9    Fwd Packet Length Std        float64\n",
            " 10  Bwd Packet Length Max         int64  \n",
            " 11   Bwd Packet Length Min        int64  \n",
            " 12   Bwd Packet Length Mean       float64\n",
            " 13   Bwd Packet Length Std        float64\n",
            " 14  Flow Bytes/s                  float64\n",
            " 15   Flow Packets/s               float64\n",
            " 16   Flow IAT Mean                float64\n",
            " 17   Flow IAT Std                 float64\n",
            " 18   Flow IAT Max                 int64  \n",
            " 19   Flow IAT Min                 int64  \n",
            " 20  Fwd IAT Total                 int64  \n",
            " 21   Fwd IAT Mean                 float64\n",
            " 22   Fwd IAT Std                  float64\n",
            " 23   Fwd IAT Max                  int64  \n",
            " 24   Fwd IAT Min                  int64  \n",
            " 25  Bwd IAT Total                 int64  \n",
            " 26   Bwd IAT Mean                 float64\n",
            " 27   Bwd IAT Std                  float64\n",
            " 28   Bwd IAT Max                  int64  \n",
            " 29   Bwd IAT Min                  int64  \n",
            " 30  Fwd PSH Flags                 int64  \n",
            " 31   Bwd PSH Flags                int64  \n",
            " 32   Fwd URG Flags                int64  \n",
            " 33   Bwd URG Flags                int64  \n",
            " 34   Fwd Header Length            int64  \n",
            " 35   Bwd Header Length            int64  \n",
            " 36  Fwd Packets/s                 float64\n",
            " 37   Bwd Packets/s                float64\n",
            " 38   Min Packet Length            int64  \n",
            " 39   Max Packet Length            int64  \n",
            " 40   Packet Length Mean           float64\n",
            " 41   Packet Length Std            float64\n",
            " 42   Packet Length Variance       float64\n",
            " 43  FIN Flag Count                int64  \n",
            " 44   SYN Flag Count               int64  \n",
            " 45   RST Flag Count               int64  \n",
            " 46   PSH Flag Count               int64  \n",
            " 47   ACK Flag Count               int64  \n",
            " 48   URG Flag Count               int64  \n",
            " 49   CWE Flag Count               int64  \n",
            " 50   ECE Flag Count               int64  \n",
            " 51   Down/Up Ratio                int64  \n",
            " 52   Average Packet Size          float64\n",
            " 53   Avg Fwd Segment Size         float64\n",
            " 54   Avg Bwd Segment Size         float64\n",
            " 55   Fwd Header Length.1          int64  \n",
            " 56  Fwd Avg Bytes/Bulk            int64  \n",
            " 57   Fwd Avg Packets/Bulk         int64  \n",
            " 58   Fwd Avg Bulk Rate            int64  \n",
            " 59   Bwd Avg Bytes/Bulk           int64  \n",
            " 60   Bwd Avg Packets/Bulk         int64  \n",
            " 61  Bwd Avg Bulk Rate             int64  \n",
            " 62  Subflow Fwd Packets           int64  \n",
            " 63   Subflow Fwd Bytes            int64  \n",
            " 64   Subflow Bwd Packets          int64  \n",
            " 65   Subflow Bwd Bytes            int64  \n",
            " 66  Init_Win_bytes_forward        int64  \n",
            " 67   Init_Win_bytes_backward      int64  \n",
            " 68   act_data_pkt_fwd             int64  \n",
            " 69   min_seg_size_forward         int64  \n",
            " 70  Active Mean                   float64\n",
            " 71   Active Std                   float64\n",
            " 72   Active Max                   int64  \n",
            " 73   Active Min                   int64  \n",
            " 74  Idle Mean                     float64\n",
            " 75   Idle Std                     float64\n",
            " 76   Idle Max                     int64  \n",
            " 77   Idle Min                     int64  \n",
            " 78   Label                        object \n",
            "dtypes: float64(24), int64(54), object(1)\n",
            "memory usage: 1.7+ GB\n"
          ]
        }
      ]
    },
    {
      "cell_type": "code",
      "source": [
        "# Pre processing\n",
        "x = combined_dataset.drop(columns=[' Label'])\n",
        "y = combined_dataset[' Label']\n",
        "# Handle missing values\n",
        "x.fillna(x.mean(), inplace=True)\n",
        "\n",
        "# Get 'Label' column that indicates attack types\n",
        "class_distribution = combined_dataset[' Label'].value_counts()\n",
        "print(class_distribution)"
      ],
      "metadata": {
        "id": "y7Zvt-PyBKnz",
        "outputId": "a7ebfa16-e480-465c-c3a0-09126aa4c6cb",
        "colab": {
          "base_uri": "https://localhost:8080/"
        }
      },
      "execution_count": 23,
      "outputs": [
        {
          "output_type": "stream",
          "name": "stdout",
          "text": [
            " Label\n",
            "BENIGN                        2273097\n",
            "DoS Hulk                       231073\n",
            "PortScan                       158930\n",
            "DDoS                           128027\n",
            "DoS GoldenEye                   10293\n",
            "FTP-Patator                      7938\n",
            "SSH-Patator                      5897\n",
            "DoS slowloris                    5796\n",
            "DoS Slowhttptest                 5499\n",
            "Bot                              1966\n",
            "Web Attack � Brute Force         1507\n",
            "Web Attack � XSS                  652\n",
            "Infiltration                       36\n",
            "Web Attack � Sql Injection         21\n",
            "Heartbleed                         11\n",
            "Name: count, dtype: int64\n"
          ]
        }
      ]
    },
    {
      "cell_type": "code",
      "source": [
        "#check for missing values\n",
        "missing_values=combined_dataset.isnull().sum()\n",
        "print(\"missing values in each column :\\n\", missing_values[missing_values>0])"
      ],
      "metadata": {
        "id": "uDzdKjeo5uz3",
        "outputId": "0d3e94b1-ebe3-4077-e0eb-32bed96aeb5a",
        "colab": {
          "base_uri": "https://localhost:8080/"
        }
      },
      "execution_count": 24,
      "outputs": [
        {
          "output_type": "stream",
          "name": "stdout",
          "text": [
            "missing values in each column :\n",
            " Flow Bytes/s    1358\n",
            "dtype: int64\n"
          ]
        }
      ]
    },
    {
      "cell_type": "code",
      "source": [
        "combined_dataset.columns = combined_dataset.columns.str.strip()\n",
        "print(combined_dataset.columns.tolist())\n",
        "\n",
        "\n",
        "#fill missing values with the mean value of 'Flow Bytes/s' column with its mean value\n",
        "meanVal = combined_dataset['Flow Bytes/s'].mean()\n",
        "\n",
        "#verify if all the missing values are handled\n",
        "combined_dataset['Flow Bytes/s'].fillna(meanVal, inplace=True)\n",
        "missingValCheck = combined_dataset.isnull().sum()\n",
        "\n",
        "#print(\"missing values after handling : \\n\", missingValCheck[missingValCheck>0])\n",
        "print(\"Missing values after handling:\\n\", missingValCheck[missingValCheck > 0])\n",
        "\n",
        "\n"
      ],
      "metadata": {
        "id": "9FlSWH438FNz",
        "outputId": "265d28bb-eaea-4d16-80b2-77d1af3b80f8",
        "colab": {
          "base_uri": "https://localhost:8080/"
        }
      },
      "execution_count": 25,
      "outputs": [
        {
          "output_type": "stream",
          "name": "stdout",
          "text": [
            "['Destination Port', 'Flow Duration', 'Total Fwd Packets', 'Total Backward Packets', 'Total Length of Fwd Packets', 'Total Length of Bwd Packets', 'Fwd Packet Length Max', 'Fwd Packet Length Min', 'Fwd Packet Length Mean', 'Fwd Packet Length Std', 'Bwd Packet Length Max', 'Bwd Packet Length Min', 'Bwd Packet Length Mean', 'Bwd Packet Length Std', 'Flow Bytes/s', 'Flow Packets/s', 'Flow IAT Mean', 'Flow IAT Std', 'Flow IAT Max', 'Flow IAT Min', 'Fwd IAT Total', 'Fwd IAT Mean', 'Fwd IAT Std', 'Fwd IAT Max', 'Fwd IAT Min', 'Bwd IAT Total', 'Bwd IAT Mean', 'Bwd IAT Std', 'Bwd IAT Max', 'Bwd IAT Min', 'Fwd PSH Flags', 'Bwd PSH Flags', 'Fwd URG Flags', 'Bwd URG Flags', 'Fwd Header Length', 'Bwd Header Length', 'Fwd Packets/s', 'Bwd Packets/s', 'Min Packet Length', 'Max Packet Length', 'Packet Length Mean', 'Packet Length Std', 'Packet Length Variance', 'FIN Flag Count', 'SYN Flag Count', 'RST Flag Count', 'PSH Flag Count', 'ACK Flag Count', 'URG Flag Count', 'CWE Flag Count', 'ECE Flag Count', 'Down/Up Ratio', 'Average Packet Size', 'Avg Fwd Segment Size', 'Avg Bwd Segment Size', 'Fwd Header Length.1', 'Fwd Avg Bytes/Bulk', 'Fwd Avg Packets/Bulk', 'Fwd Avg Bulk Rate', 'Bwd Avg Bytes/Bulk', 'Bwd Avg Packets/Bulk', 'Bwd Avg Bulk Rate', 'Subflow Fwd Packets', 'Subflow Fwd Bytes', 'Subflow Bwd Packets', 'Subflow Bwd Bytes', 'Init_Win_bytes_forward', 'Init_Win_bytes_backward', 'act_data_pkt_fwd', 'min_seg_size_forward', 'Active Mean', 'Active Std', 'Active Max', 'Active Min', 'Idle Mean', 'Idle Std', 'Idle Max', 'Idle Min', 'Label']\n",
            "Missing values after handling:\n",
            " Series([], dtype: int64)\n"
          ]
        }
      ]
    },
    {
      "cell_type": "code",
      "source": [
        "print(combined_dataset.columns.tolist())\n",
        "\n",
        "print(combined_dataset['Flow Bytes/s'].dtype)\n",
        "\n"
      ],
      "metadata": {
        "id": "7FwXtng89-qo",
        "outputId": "4816f74e-5867-4d8b-97f4-1383f2d6853e",
        "colab": {
          "base_uri": "https://localhost:8080/"
        }
      },
      "execution_count": 26,
      "outputs": [
        {
          "output_type": "stream",
          "name": "stdout",
          "text": [
            "['Destination Port', 'Flow Duration', 'Total Fwd Packets', 'Total Backward Packets', 'Total Length of Fwd Packets', 'Total Length of Bwd Packets', 'Fwd Packet Length Max', 'Fwd Packet Length Min', 'Fwd Packet Length Mean', 'Fwd Packet Length Std', 'Bwd Packet Length Max', 'Bwd Packet Length Min', 'Bwd Packet Length Mean', 'Bwd Packet Length Std', 'Flow Bytes/s', 'Flow Packets/s', 'Flow IAT Mean', 'Flow IAT Std', 'Flow IAT Max', 'Flow IAT Min', 'Fwd IAT Total', 'Fwd IAT Mean', 'Fwd IAT Std', 'Fwd IAT Max', 'Fwd IAT Min', 'Bwd IAT Total', 'Bwd IAT Mean', 'Bwd IAT Std', 'Bwd IAT Max', 'Bwd IAT Min', 'Fwd PSH Flags', 'Bwd PSH Flags', 'Fwd URG Flags', 'Bwd URG Flags', 'Fwd Header Length', 'Bwd Header Length', 'Fwd Packets/s', 'Bwd Packets/s', 'Min Packet Length', 'Max Packet Length', 'Packet Length Mean', 'Packet Length Std', 'Packet Length Variance', 'FIN Flag Count', 'SYN Flag Count', 'RST Flag Count', 'PSH Flag Count', 'ACK Flag Count', 'URG Flag Count', 'CWE Flag Count', 'ECE Flag Count', 'Down/Up Ratio', 'Average Packet Size', 'Avg Fwd Segment Size', 'Avg Bwd Segment Size', 'Fwd Header Length.1', 'Fwd Avg Bytes/Bulk', 'Fwd Avg Packets/Bulk', 'Fwd Avg Bulk Rate', 'Bwd Avg Bytes/Bulk', 'Bwd Avg Packets/Bulk', 'Bwd Avg Bulk Rate', 'Subflow Fwd Packets', 'Subflow Fwd Bytes', 'Subflow Bwd Packets', 'Subflow Bwd Bytes', 'Init_Win_bytes_forward', 'Init_Win_bytes_backward', 'act_data_pkt_fwd', 'min_seg_size_forward', 'Active Mean', 'Active Std', 'Active Max', 'Active Min', 'Idle Mean', 'Idle Std', 'Idle Max', 'Idle Min', 'Label']\n",
            "float64\n"
          ]
        }
      ]
    },
    {
      "cell_type": "code",
      "source": [
        "#separating features as X and target variable as Y\n",
        "X= combined_dataset.drop(columns=['Label'])\n",
        "Y= combined_dataset['Label']\n",
        "#print the shape of X and Y\n",
        "print(\"features shape\",X.shape)\n",
        "print(\"Target variable shape\", Y.shape)"
      ],
      "metadata": {
        "id": "K1BpInec-TT8",
        "outputId": "76d1e8ac-4205-4d10-bd1a-cecf5f4d7194",
        "colab": {
          "base_uri": "https://localhost:8080/"
        }
      },
      "execution_count": 27,
      "outputs": [
        {
          "output_type": "stream",
          "name": "stdout",
          "text": [
            "features shape (2830743, 78)\n",
            "Target variable shape (2830743,)\n"
          ]
        }
      ]
    },
    {
      "cell_type": "code",
      "source": [
        "import numpy as np\n",
        "\n",
        "#check for infinity values\n",
        "infVal=X.isin([np.inf, -np.inf]).sum()\n",
        "print(\"Infinity values in each column:\\n\", infVal[infVal>0])\n",
        "\n",
        "# Check for excessively large values (based on what you deem large)\n",
        "large_values = X.apply(lambda x: x > 1e6).sum()\n",
        "print(\"Large values in each column: \\n\", large_values[large_values > 0])"
      ],
      "metadata": {
        "id": "em8IR97pYomg",
        "outputId": "05dc58c9-321e-4ba2-d433-a727906d254f",
        "colab": {
          "base_uri": "https://localhost:8080/"
        }
      },
      "execution_count": 29,
      "outputs": [
        {
          "output_type": "stream",
          "name": "stdout",
          "text": [
            "Infinity values in each column:\n",
            " Flow Bytes/s      2867\n",
            "Flow Packets/s    2867\n",
            "dtype: int64\n",
            "Large values in each column: \n",
            " Flow Duration                  787703\n",
            "Total Length of Fwd Packets        33\n",
            "Total Length of Bwd Packets      1908\n",
            "Flow Bytes/s                   412675\n",
            "Flow Packets/s                  34283\n",
            "Flow IAT Mean                  548718\n",
            "Flow IAT Std                   684261\n",
            "Flow IAT Max                   766252\n",
            "Flow IAT Min                    18045\n",
            "Fwd IAT Total                  719864\n",
            "Fwd IAT Mean                   582650\n",
            "Fwd IAT Std                    610547\n",
            "Fwd IAT Max                    698294\n",
            "Fwd IAT Min                     66140\n",
            "Bwd IAT Total                  462365\n",
            "Bwd IAT Mean                   357584\n",
            "Bwd IAT Std                    344940\n",
            "Bwd IAT Max                    450344\n",
            "Bwd IAT Min                     62420\n",
            "Fwd Header Length                  52\n",
            "Bwd Header Length                  54\n",
            "Fwd Packets/s                   29050\n",
            "Bwd Packets/s                     132\n",
            "Packet Length Variance         295132\n",
            "Fwd Header Length.1                52\n",
            "Subflow Fwd Bytes                  33\n",
            "Subflow Bwd Bytes                1908\n",
            "Active Mean                     48127\n",
            "Active Std                      31413\n",
            "Active Max                      95653\n",
            "Active Min                      33311\n",
            "Idle Mean                      567283\n",
            "Idle Std                        69533\n",
            "Idle Max                       567283\n",
            "Idle Min                       567283\n",
            "dtype: int64\n"
          ]
        }
      ]
    },
    {
      "cell_type": "code",
      "source": [
        "#To Handle infinity values : Replace infinity values with\n",
        "X.replace([np.inf,-np.inf],np.nan,inplace=True)\n",
        "\n",
        "#To Handle Large values : Capping extremely large values\n",
        "X = X.apply(lambda x: np.where(x > 1e6, 1e6, x))  # Example threshold 1e6\n",
        "\n",
        "# Fill missing values after replacing infinity\n",
        "X.fillna(X.mean(), inplace=True)\n",
        "\n",
        "# Check for any remaining missing values\n",
        "print(X.isnull().sum())\n",
        "\n"
      ],
      "metadata": {
        "id": "UPC0uyvzbUmQ",
        "outputId": "f96c0247-470f-4996-b0d4-c6734efc6f1f",
        "colab": {
          "base_uri": "https://localhost:8080/"
        }
      },
      "execution_count": 30,
      "outputs": [
        {
          "output_type": "stream",
          "name": "stdout",
          "text": [
            "Destination Port               0\n",
            "Flow Duration                  0\n",
            "Total Fwd Packets              0\n",
            "Total Backward Packets         0\n",
            "Total Length of Fwd Packets    0\n",
            "                              ..\n",
            "Active Min                     0\n",
            "Idle Mean                      0\n",
            "Idle Std                       0\n",
            "Idle Max                       0\n",
            "Idle Min                       0\n",
            "Length: 78, dtype: int64\n"
          ]
        }
      ]
    },
    {
      "cell_type": "code",
      "source": [
        "#selecting best features for the training model out of 78 features\n",
        "#use Random forest algorithm\n",
        "from sklearn.ensemble import RandomForestClassifier\n",
        "import matplotlib.pyplot as plt\n",
        "import numpy as np\n",
        "\n",
        "#Train a model with Random Forest\n",
        "rfModel=RandomForestClassifier(n_estimators=100, random_state=42)\n",
        "rfModel.fit(X,Y)\n",
        "\n",
        "#Get important feature\n",
        "importantFeatures=rfModel.feature_importances_"
      ],
      "metadata": {
        "id": "MNLkofDccgZF"
      },
      "execution_count": 31,
      "outputs": []
    },
    {
      "cell_type": "code",
      "source": [
        "#Creating another Data frame with selected most importand features and their importance factor\n",
        "importantFeatures_df=pd.DataFrame({\n",
        "    'Feature' : X.columns,\n",
        "    'Importance': importantFeatures\n",
        "})\n",
        "\n",
        "#Sort the Dataframe by importance scores in decending order\n",
        "importantFeatures_df = importantFeatures_df.sort_values(by='Importance', ascending=False)\n",
        "\n",
        "# Display the top important features\n",
        "print(importantFeatures_df.head(20))  # Change 10 to the number of features you want to display\n",
        "\n",
        "# Plotting feature importances\n",
        "plt.figure(figsize=(10, 6))  # Adjust the figure size as needed\n",
        "plt.barh(importantFeatures_df['Feature'][:20], importantFeatures_df['Importance'][:20], color='skyblue')  # Change to top 20\n",
        "plt.xlabel('Importance Score')\n",
        "plt.title('Top 20 Important Features')  # Update title to reflect the change\n",
        "plt.gca().invert_yaxis()  # Invert y-axis to have the most important feature on top\n",
        "plt.show()\n"
      ],
      "metadata": {
        "id": "EKeMOBwwiCVs",
        "outputId": "86a9f78b-c017-4b67-c077-e38a16812e53",
        "colab": {
          "base_uri": "https://localhost:8080/",
          "height": 928
        }
      },
      "execution_count": 33,
      "outputs": [
        {
          "output_type": "stream",
          "name": "stdout",
          "text": [
            "                        Feature  Importance\n",
            "41            Packet Length Std    0.057404\n",
            "54         Avg Bwd Segment Size    0.053411\n",
            "39            Max Packet Length    0.050424\n",
            "42       Packet Length Variance    0.047645\n",
            "63            Subflow Fwd Bytes    0.044556\n",
            "0              Destination Port    0.044273\n",
            "52          Average Packet Size    0.038268\n",
            "10        Bwd Packet Length Max    0.037486\n",
            "12       Bwd Packet Length Mean    0.035119\n",
            "4   Total Length of Fwd Packets    0.033908\n",
            "6         Fwd Packet Length Max    0.032731\n",
            "5   Total Length of Bwd Packets    0.032375\n",
            "13        Bwd Packet Length Std    0.031699\n",
            "66       Init_Win_bytes_forward    0.031648\n",
            "40           Packet Length Mean    0.031502\n",
            "65            Subflow Bwd Bytes    0.028601\n",
            "53         Avg Fwd Segment Size    0.022895\n",
            "37                Bwd Packets/s    0.018357\n",
            "8        Fwd Packet Length Mean    0.016926\n",
            "46               PSH Flag Count    0.016024\n"
          ]
        },
        {
          "output_type": "display_data",
          "data": {
            "text/plain": [
              "<Figure size 1000x600 with 1 Axes>"
            ],
            "image/png": "[encoded data removed]"
          },
          "metadata": {}
        }
      ]
    },
    {
      "cell_type": "code",
      "source": [
        "importantFeatures_df.info()"
      ],
      "metadata": {
        "id": "t4z5mPXDtNyM",
        "outputId": "0d085652-affc-41c9-904a-34b8723db668",
        "colab": {
          "base_uri": "https://localhost:8080/"
        }
      },
      "execution_count": 34,
      "outputs": [
        {
          "output_type": "stream",
          "name": "stdout",
          "text": [
            "<class 'pandas.core.frame.DataFrame'>\n",
            "Index: 78 entries, 41 to 61\n",
            "Data columns (total 2 columns):\n",
            " #   Column      Non-Null Count  Dtype  \n",
            "---  ------      --------------  -----  \n",
            " 0   Feature     78 non-null     object \n",
            " 1   Importance  78 non-null     float64\n",
            "dtypes: float64(1), object(1)\n",
            "memory usage: 1.8+ KB\n"
          ]
        }
      ]
    },
    {
      "cell_type": "code",
      "source": [
        "# Assuming 'top_features' contains the names of the 20 important features\n",
        "top_features = importantFeatures_df.nlargest(20, 'Importance')['Feature']\n",
        "\n",
        "# Create a new DataFrame with selected features and the target variable\n",
        "selected_features_df = combined_dataset[top_features.values.tolist() + ['Label']]\n",
        "\n",
        "# Display the new DataFrame to verify\n",
        "print(selected_features_df.head())\n"
      ],
      "metadata": {
        "id": "XQs-d1Zhukbz",
        "outputId": "30910756-e669-4f40-8f3d-95ffbf9a3d17",
        "colab": {
          "base_uri": "https://localhost:8080/"
        }
      },
      "execution_count": 35,
      "outputs": [
        {
          "output_type": "stream",
          "name": "stdout",
          "text": [
            "   Packet Length Std  Avg Bwd Segment Size  Max Packet Length  \\\n",
            "0           0.000000              6.000000                  6   \n",
            "1          56.529599             65.200000                163   \n",
            "2         671.751541            525.000000               1575   \n",
            "3         704.654082            555.000000               3069   \n",
            "4         704.585067            525.333333               1576   \n",
            "\n",
            "   Packet Length Variance  Subflow Fwd Bytes  Destination Port  \\\n",
            "0                0.000000                  6                80   \n",
            "1             3195.595588                172               389   \n",
            "2           451250.132400               3150                88   \n",
            "3           496537.374700               3452               389   \n",
            "4           496440.116700               3150                88   \n",
            "\n",
            "   Average Packet Size  Bwd Packet Length Max  Bwd Packet Length Mean  \\\n",
            "0             9.000000                      6                6.000000   \n",
            "1            31.125000                    163               65.200000   \n",
            "2           393.750000                   1575              525.000000   \n",
            "3           348.689655                   3069              555.000000   \n",
            "4           420.133333                   1576              525.333333   \n",
            "\n",
            "   Total Length of Fwd Packets  ...  Total Length of Bwd Packets  \\\n",
            "0                            6  ...                            6   \n",
            "1                          172  ...                          326   \n",
            "2                         3150  ...                         3150   \n",
            "3                         3452  ...                         6660   \n",
            "4                         3150  ...                         3152   \n",
            "\n",
            "   Bwd Packet Length Std  Init_Win_bytes_forward  Packet Length Mean  \\\n",
            "0               0.000000                     255            6.000000   \n",
            "1              89.278777                   29200           29.294118   \n",
            "2             813.326503                   29200          370.588235   \n",
            "3             977.480342                   29200          337.066667   \n",
            "4             813.842901                   29200          393.875000   \n",
            "\n",
            "   Subflow Bwd Bytes  Avg Fwd Segment Size  Bwd Packets/s  \\\n",
            "0                  6              6.000000      26.104208   \n",
            "1                326             15.636364   10438.413360   \n",
            "2               3150            315.000000    5479.452055   \n",
            "3               6660            203.058823     789.162173   \n",
            "4               3152            350.000000    5494.505495   \n",
            "\n",
            "   Fwd Packet Length Mean  PSH Flag Count   Label  \n",
            "0                6.000000               0  BENIGN  \n",
            "1               15.636364               1  BENIGN  \n",
            "2              315.000000               1  BENIGN  \n",
            "3              203.058823               1  BENIGN  \n",
            "4              350.000000               1  BENIGN  \n",
            "\n",
            "[5 rows x 21 columns]\n"
          ]
        }
      ]
    },
    {
      "cell_type": "code",
      "source": [
        "selected_features_df.info()"
      ],
      "metadata": {
        "id": "3X4CXNgZ0OII",
        "outputId": "52c1f39f-d996-47d5-fd50-af8eadaaa179",
        "colab": {
          "base_uri": "https://localhost:8080/"
        }
      },
      "execution_count": 36,
      "outputs": [
        {
          "output_type": "stream",
          "name": "stdout",
          "text": [
            "<class 'pandas.core.frame.DataFrame'>\n",
            "RangeIndex: 2830743 entries, 0 to 2830742\n",
            "Data columns (total 21 columns):\n",
            " #   Column                       Dtype  \n",
            "---  ------                       -----  \n",
            " 0   Packet Length Std            float64\n",
            " 1   Avg Bwd Segment Size         float64\n",
            " 2   Max Packet Length            int64  \n",
            " 3   Packet Length Variance       float64\n",
            " 4   Subflow Fwd Bytes            int64  \n",
            " 5   Destination Port             int64  \n",
            " 6   Average Packet Size          float64\n",
            " 7   Bwd Packet Length Max        int64  \n",
            " 8   Bwd Packet Length Mean       float64\n",
            " 9   Total Length of Fwd Packets  int64  \n",
            " 10  Fwd Packet Length Max        int64  \n",
            " 11  Total Length of Bwd Packets  int64  \n",
            " 12  Bwd Packet Length Std        float64\n",
            " 13  Init_Win_bytes_forward       int64  \n",
            " 14  Packet Length Mean           float64\n",
            " 15  Subflow Bwd Bytes            int64  \n",
            " 16  Avg Fwd Segment Size         float64\n",
            " 17  Bwd Packets/s                float64\n",
            " 18  Fwd Packet Length Mean       float64\n",
            " 19  PSH Flag Count               int64  \n",
            " 20  Label                        object \n",
            "dtypes: float64(10), int64(10), object(1)\n",
            "memory usage: 453.5+ MB\n"
          ]
        }
      ]
    },
    {
      "cell_type": "code",
      "source": [
        "from sklearn.preprocessing import LabelEncoder\n",
        "\n",
        "#initiate the lable encoder\n",
        "labelEncoder=LabelEncoder()\n",
        "\n",
        "#fit the encoder to the lable data\n",
        "y_encode=labelEncoder.fit_transform(Y)\n",
        "\n",
        "#check the data type\n",
        "y_encode.dtype"
      ],
      "metadata": {
        "id": "AB5RqUEJ1bSk",
        "outputId": "dfa2b869-23f5-4417-c88e-cec32af5bc67",
        "colab": {
          "base_uri": "https://localhost:8080/"
        }
      },
      "execution_count": 39,
      "outputs": [
        {
          "output_type": "execute_result",
          "data": {
            "text/plain": [
              "dtype('int64')"
            ]
          },
          "metadata": {},
          "execution_count": 39
        }
      ]
    },
    {
      "cell_type": "code",
      "source": [
        "from sklearn.model_selection import train_test_split\n",
        "\n",
        "#Use features from selected_features_df dataframe and y_encode\n",
        "x_train,x_test,y_train,y_test=train_test_split(selected_features_df,y_encode,test_size=0.2,random_state=42,stratify=y_encode)\n",
        "\n",
        "#check the shapes of the resulting datsets\n",
        "print(\"Traning features set shape:\",x_train.shape)\n",
        "print(\"Test features set shape:\",x_test.shape)\n",
        "print(\"Traning Lable set shape:\",y_train.shape)\n",
        "print(\"Test Lable set shape:\",y_test.shape)"
      ],
      "metadata": {
        "id": "gkKo5E945x3N",
        "outputId": "6fbda2b9-8a11-4d33-d77f-1d5fbbf93dfb",
        "colab": {
          "base_uri": "https://localhost:8080/"
        }
      },
      "execution_count": 41,
      "outputs": [
        {
          "output_type": "stream",
          "name": "stdout",
          "text": [
            "Traning features set shape: (2264594, 21)\n",
            "Test features set shape: (566149, 21)\n",
            "Traning Lable set shape: (2264594,)\n",
            "Test Lable set shape: (566149,)\n"
          ]
        }
      ]
    }
  ]
}