{
  "nbformat": 4,
  "nbformat_minor": 0,
  "metadata": {
    "colab": {
      "provenance": [],
      "authorship_tag": "ABX9TyPsQus/F5o0MDokszd2LVPp",
      "include_colab_link": true
    },
    "kernelspec": {
      "name": "python3",
      "display_name": "Python 3"
    },
    "language_info": {
      "name": "python"
    }
  },
  "cells": [
    {
      "cell_type": "markdown",
      "metadata": {
        "id": "view-in-github",
        "colab_type": "text"
      },
      "source": [
        "<a href=\"https://colab.research.google.com/github/MeenaRuwandi/INCS_870_Project_IDSforMinorAttacks/blob/main/incs870_team4.ipynb\" target=\"_parent\"><img src=\"https://colab.research.google.com/assets/colab-badge.svg\" alt=\"Open In Colab\"/></a>"
      ]
    },
    {
      "cell_type": "code",
      "source": [
        "!pip install imbalanced-learn\n",
        "!pip install scikit-learn"
      ],
      "metadata": {
        "colab": {
          "base_uri": "https://localhost:8080/"
        },
        "id": "kAonk6lUz5UI",
        "outputId": "2371f6d6-f291-4b16-9435-17f8855e3d48"
      },
      "execution_count": 2,
      "outputs": [
        {
          "output_type": "stream",
          "name": "stdout",
          "text": [
            "Requirement already satisfied: imbalanced-learn in /usr/local/lib/python3.10/dist-packages (0.12.3)\n",
            "Requirement already satisfied: numpy>=1.17.3 in /usr/local/lib/python3.10/dist-packages (from imbalanced-learn) (1.26.4)\n",
            "Requirement already satisfied: scipy>=1.5.0 in /usr/local/lib/python3.10/dist-packages (from imbalanced-learn) (1.13.1)\n",
            "Requirement already satisfied: scikit-learn>=1.0.2 in /usr/local/lib/python3.10/dist-packages (from imbalanced-learn) (1.5.2)\n",
            "Requirement already satisfied: joblib>=1.1.1 in /usr/local/lib/python3.10/dist-packages (from imbalanced-learn) (1.4.2)\n",
            "Requirement already satisfied: threadpoolctl>=2.0.0 in /usr/local/lib/python3.10/dist-packages (from imbalanced-learn) (3.5.0)\n",
            "Requirement already satisfied: scikit-learn in /usr/local/lib/python3.10/dist-packages (1.5.2)\n",
            "Requirement already satisfied: numpy>=1.19.5 in /usr/local/lib/python3.10/dist-packages (from scikit-learn) (1.26.4)\n",
            "Requirement already satisfied: scipy>=1.6.0 in /usr/local/lib/python3.10/dist-packages (from scikit-learn) (1.13.1)\n",
            "Requirement already satisfied: joblib>=1.2.0 in /usr/local/lib/python3.10/dist-packages (from scikit-learn) (1.4.2)\n",
            "Requirement already satisfied: threadpoolctl>=3.1.0 in /usr/local/lib/python3.10/dist-packages (from scikit-learn) (3.5.0)\n"
          ]
        }
      ]
    },
    {
      "cell_type": "code",
      "execution_count": 4,
      "metadata": {
        "colab": {
          "base_uri": "https://localhost:8080/"
        },
        "id": "xJzGzg0FzrC0",
        "outputId": "de1af691-d657-4201-d9ac-746b474334c7"
      },
      "outputs": [
        {
          "output_type": "stream",
          "name": "stdout",
          "text": [
            "Requirement already satisfied: gdown in /usr/local/lib/python3.10/dist-packages (5.2.0)\n",
            "Requirement already satisfied: beautifulsoup4 in /usr/local/lib/python3.10/dist-packages (from gdown) (4.12.3)\n",
            "Requirement already satisfied: filelock in /usr/local/lib/python3.10/dist-packages (from gdown) (3.16.1)\n",
            "Requirement already satisfied: requests[socks] in /usr/local/lib/python3.10/dist-packages (from gdown) (2.32.3)\n",
            "Requirement already satisfied: tqdm in /usr/local/lib/python3.10/dist-packages (from gdown) (4.66.5)\n",
            "Requirement already satisfied: soupsieve>1.2 in /usr/local/lib/python3.10/dist-packages (from beautifulsoup4->gdown) (2.6)\n",
            "Requirement already satisfied: charset-normalizer<4,>=2 in /usr/local/lib/python3.10/dist-packages (from requests[socks]->gdown) (3.3.2)\n",
            "Requirement already satisfied: idna<4,>=2.5 in /usr/local/lib/python3.10/dist-packages (from requests[socks]->gdown) (3.10)\n",
            "Requirement already satisfied: urllib3<3,>=1.21.1 in /usr/local/lib/python3.10/dist-packages (from requests[socks]->gdown) (2.2.3)\n",
            "Requirement already satisfied: certifi>=2017.4.17 in /usr/local/lib/python3.10/dist-packages (from requests[socks]->gdown) (2024.8.30)\n",
            "Requirement already satisfied: PySocks!=1.5.7,>=1.5.6 in /usr/local/lib/python3.10/dist-packages (from requests[socks]->gdown) (1.7.1)\n"
          ]
        }
      ],
      "source": [
        "!pip install gdown\n",
        "import gdown"
      ]
    },
    {
      "cell_type": "code",
      "source": [
        "file_ids = [\n",
        "    '1zOeCqtGZjAj_nSLe3W5MH5pDQM28bPde',  # Replace with actual file ID\n",
        "    '1fagr2rKW8EN-Psc5UlD9BFfa0rRRF6i3',  # Replace with actual file ID\n",
        "    '1WL00LFkCA2ylV8_8c6jm52bnEhGLcKsq',   # Replace with actual file ID\n",
        "    '1xr_QBU3Ab42nW1ELl0NUydx4Rbx60TVR',\n",
        "    '1MpqHsC5wQSu9CxlhJimz25EVcYubSMhu',\n",
        "    '18mKfJHXinmfwPpaYNU2D6xHwq4dQuEuL',\n",
        "    '1h1lMHytamf4Kc66NfAfMfBzDbmwM5Ub5',\n",
        "    '11__JhC64_D4ezxjF8d0dPNRDJF-TY6Pq'\n",
        "]\n",
        "\n",
        "\n",
        "# Download each file\n",
        "for i, file_id in enumerate(file_ids):\n",
        "    url = f'https://drive.google.com/uc?id={file_id}'\n",
        "    gdown.download(url, f'dataset_{i + 1}.csv', quiet=False)  # Saves as dataset_1.csv, dataset_2.csv, etc."
      ],
      "metadata": {
        "colab": {
          "base_uri": "https://localhost:8080/"
        },
        "id": "yQuMhkmd0NNe",
        "outputId": "d8106819-a08d-482d-b587-44c7c59d1268"
      },
      "execution_count": 7,
      "outputs": [
        {
          "output_type": "stream",
          "name": "stderr",
          "text": [
            "Downloading...\n",
            "From (original): https://drive.google.com/uc?id=1zOeCqtGZjAj_nSLe3W5MH5pDQM28bPde\n",
            "From (redirected): https://drive.google.com/uc?id=1zOeCqtGZjAj_nSLe3W5MH5pDQM28bPde&confirm=t&uuid=2c112406-986f-41bf-b474-1c88fa49373f\n",
            "To: /content/dataset_1.csv\n",
            "100%|██████████| 225M/225M [00:04<00:00, 53.4MB/s]\n",
            "Downloading...\n",
            "From (original): https://drive.google.com/uc?id=1fagr2rKW8EN-Psc5UlD9BFfa0rRRF6i3\n",
            "From (redirected): https://drive.google.com/uc?id=1fagr2rKW8EN-Psc5UlD9BFfa0rRRF6i3&confirm=t&uuid=74ae4af5-e26a-4b72-a531-31d81ce1d6e2\n",
            "To: /content/dataset_2.csv\n",
            "100%|██████████| 135M/135M [00:01<00:00, 76.3MB/s]\n",
            "Downloading...\n",
            "From (original): https://drive.google.com/uc?id=1WL00LFkCA2ylV8_8c6jm52bnEhGLcKsq\n",
            "From (redirected): https://drive.google.com/uc?id=1WL00LFkCA2ylV8_8c6jm52bnEhGLcKsq&confirm=t&uuid=92df5c2b-0063-4b19-a181-fe06a565da7f\n",
            "To: /content/dataset_3.csv\n",
            "100%|██████████| 52.0M/52.0M [00:00<00:00, 69.9MB/s]\n",
            "Downloading...\n",
            "From: https://drive.google.com/uc?id=1xr_QBU3Ab42nW1ELl0NUydx4Rbx60TVR\n",
            "To: /content/dataset_4.csv\n",
            "100%|██████████| 83.1M/83.1M [00:01<00:00, 68.3MB/s]\n",
            "Downloading...\n",
            "From (original): https://drive.google.com/uc?id=1MpqHsC5wQSu9CxlhJimz25EVcYubSMhu\n",
            "From (redirected): https://drive.google.com/uc?id=1MpqHsC5wQSu9CxlhJimz25EVcYubSMhu&confirm=t&uuid=3a448fdc-8a6b-4603-973c-3c82ed6f3702\n",
            "To: /content/dataset_5.csv\n",
            "100%|██████████| 177M/177M [00:02<00:00, 69.3MB/s]\n",
            "Downloading...\n",
            "From: https://drive.google.com/uc?id=18mKfJHXinmfwPpaYNU2D6xHwq4dQuEuL\n",
            "To: /content/dataset_6.csv\n",
            "100%|██████████| 58.3M/58.3M [00:01<00:00, 45.3MB/s]\n",
            "Downloading...\n",
            "From: https://drive.google.com/uc?id=1h1lMHytamf4Kc66NfAfMfBzDbmwM5Ub5\n",
            "To: /content/dataset_7.csv\n",
            "100%|██████████| 76.9M/76.9M [00:01<00:00, 70.8MB/s]\n",
            "Downloading...\n",
            "From: https://drive.google.com/uc?id=11__JhC64_D4ezxjF8d0dPNRDJF-TY6Pq\n",
            "To: /content/dataset_8.csv\n",
            "100%|██████████| 77.1M/77.1M [00:00<00:00, 82.5MB/s]\n"
          ]
        }
      ]
    }
  ]
}